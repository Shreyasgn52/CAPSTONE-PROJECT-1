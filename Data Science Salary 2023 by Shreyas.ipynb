{
 "cells": [
  {
   "cell_type": "markdown",
   "id": "39cc6f0b",
   "metadata": {},
   "source": [
    "# Data Science Salaries 2023"
   ]
  },
  {
   "cell_type": "markdown",
   "id": "960e81ae",
   "metadata": {},
   "source": [
    "![Image Alt Text](https://miro.medium.com/v2/resize:fit:1125/0*FQJOipdFwEgHtzBV)"
   ]
  },
  {
   "cell_type": "markdown",
   "id": "521e06d2",
   "metadata": {},
   "source": [
    "### About Dataset\n",
    "Data Science Job Salaries Dataset contains 11 columns, each are:\n",
    "\n",
    "work_year: The year the salary was paid.\n",
    "\n",
    "experience_level: The experience level in the job during the year\n",
    "\n",
    "employment_type: The type of employment for the role\n",
    "\n",
    "job_title: The role worked in during the year.\n",
    "\n",
    "salary: The total gross salary amount paid.\n",
    "\n",
    "salary_currency: The currency of the salary paid as an ISO 4217 currency code.\n",
    "\n",
    "\n",
    "\n",
    "\n",
    "\n",
    "\n",
    "\n",
    "\n",
    "\n",
    "\n",
    "\n",
    "\n",
    "salaryinusd: The salary in USD\n",
    "\n",
    "employee_residence: Employee's primary country of residence in during the work year as an ISO 3166 country code.\n",
    "\n",
    "remote_ratio: The overall amount of work done remotely\n",
    "\n",
    "company_location: The country of the employer's main office or contracting branch\n",
    "\n",
    "company_size: The median number of people that worked for the company during the year\n"
   ]
  },
  {
   "cell_type": "markdown",
   "id": "f533f25f",
   "metadata": {},
   "source": [
    "# Importing necessary libraries"
   ]
  },
  {
   "cell_type": "code",
   "execution_count": 3,
   "id": "5a4f906e",
   "metadata": {},
   "outputs": [],
   "source": [
    "import pandas as pd\n",
    "import numpy as np\n",
    "import seaborn as sns\n",
    "import matplotlib.pyplot as plt\n",
    "from warnings import filterwarnings\n",
    "filterwarnings('ignore')"
   ]
  },
  {
   "cell_type": "markdown",
   "id": "51170579",
   "metadata": {},
   "source": [
    "# 1. import dataset and view"
   ]
  },
  {
   "cell_type": "code",
   "execution_count": 4,
   "id": "75a45e40",
   "metadata": {},
   "outputs": [
    {
     "data": {
      "text/html": [
       "<div>\n",
       "<style scoped>\n",
       "    .dataframe tbody tr th:only-of-type {\n",
       "        vertical-align: middle;\n",
       "    }\n",
       "\n",
       "    .dataframe tbody tr th {\n",
       "        vertical-align: top;\n",
       "    }\n",
       "\n",
       "    .dataframe thead th {\n",
       "        text-align: right;\n",
       "    }\n",
       "</style>\n",
       "<table border=\"1\" class=\"dataframe\">\n",
       "  <thead>\n",
       "    <tr style=\"text-align: right;\">\n",
       "      <th></th>\n",
       "      <th>work_year</th>\n",
       "      <th>experience_level</th>\n",
       "      <th>employment_type</th>\n",
       "      <th>job_title</th>\n",
       "      <th>salary</th>\n",
       "      <th>salary_currency</th>\n",
       "      <th>salary_in_usd</th>\n",
       "      <th>employee_residence</th>\n",
       "      <th>remote_ratio</th>\n",
       "      <th>company_location</th>\n",
       "      <th>company_size</th>\n",
       "    </tr>\n",
       "  </thead>\n",
       "  <tbody>\n",
       "    <tr>\n",
       "      <th>0</th>\n",
       "      <td>2023</td>\n",
       "      <td>SE</td>\n",
       "      <td>FT</td>\n",
       "      <td>Principal Data Scientist</td>\n",
       "      <td>80000</td>\n",
       "      <td>EUR</td>\n",
       "      <td>85847</td>\n",
       "      <td>ES</td>\n",
       "      <td>100</td>\n",
       "      <td>ES</td>\n",
       "      <td>L</td>\n",
       "    </tr>\n",
       "    <tr>\n",
       "      <th>1</th>\n",
       "      <td>2023</td>\n",
       "      <td>MI</td>\n",
       "      <td>CT</td>\n",
       "      <td>ML Engineer</td>\n",
       "      <td>30000</td>\n",
       "      <td>USD</td>\n",
       "      <td>30000</td>\n",
       "      <td>US</td>\n",
       "      <td>100</td>\n",
       "      <td>US</td>\n",
       "      <td>S</td>\n",
       "    </tr>\n",
       "    <tr>\n",
       "      <th>2</th>\n",
       "      <td>2023</td>\n",
       "      <td>MI</td>\n",
       "      <td>CT</td>\n",
       "      <td>ML Engineer</td>\n",
       "      <td>25500</td>\n",
       "      <td>USD</td>\n",
       "      <td>25500</td>\n",
       "      <td>US</td>\n",
       "      <td>100</td>\n",
       "      <td>US</td>\n",
       "      <td>S</td>\n",
       "    </tr>\n",
       "    <tr>\n",
       "      <th>3</th>\n",
       "      <td>2023</td>\n",
       "      <td>SE</td>\n",
       "      <td>FT</td>\n",
       "      <td>Data Scientist</td>\n",
       "      <td>175000</td>\n",
       "      <td>USD</td>\n",
       "      <td>175000</td>\n",
       "      <td>CA</td>\n",
       "      <td>100</td>\n",
       "      <td>CA</td>\n",
       "      <td>M</td>\n",
       "    </tr>\n",
       "    <tr>\n",
       "      <th>4</th>\n",
       "      <td>2023</td>\n",
       "      <td>SE</td>\n",
       "      <td>FT</td>\n",
       "      <td>Data Scientist</td>\n",
       "      <td>120000</td>\n",
       "      <td>USD</td>\n",
       "      <td>120000</td>\n",
       "      <td>CA</td>\n",
       "      <td>100</td>\n",
       "      <td>CA</td>\n",
       "      <td>M</td>\n",
       "    </tr>\n",
       "  </tbody>\n",
       "</table>\n",
       "</div>"
      ],
      "text/plain": [
       "   work_year experience_level employment_type                 job_title  \\\n",
       "0       2023               SE              FT  Principal Data Scientist   \n",
       "1       2023               MI              CT               ML Engineer   \n",
       "2       2023               MI              CT               ML Engineer   \n",
       "3       2023               SE              FT            Data Scientist   \n",
       "4       2023               SE              FT            Data Scientist   \n",
       "\n",
       "   salary salary_currency  salary_in_usd employee_residence  remote_ratio  \\\n",
       "0   80000             EUR          85847                 ES           100   \n",
       "1   30000             USD          30000                 US           100   \n",
       "2   25500             USD          25500                 US           100   \n",
       "3  175000             USD         175000                 CA           100   \n",
       "4  120000             USD         120000                 CA           100   \n",
       "\n",
       "  company_location company_size  \n",
       "0               ES            L  \n",
       "1               US            S  \n",
       "2               US            S  \n",
       "3               CA            M  \n",
       "4               CA            M  "
      ]
     },
     "execution_count": 4,
     "metadata": {},
     "output_type": "execute_result"
    }
   ],
   "source": [
    "data = pd.read_csv(r\"C:\\Users\\User\\Downloads\\ds_salaries.csv\")\n",
    "data.head()"
   ]
  },
  {
   "cell_type": "code",
   "execution_count": 5,
   "id": "d0012354",
   "metadata": {},
   "outputs": [
    {
     "data": {
      "text/plain": [
       "(3755, 11)"
      ]
     },
     "execution_count": 5,
     "metadata": {},
     "output_type": "execute_result"
    }
   ],
   "source": [
    "data.shape"
   ]
  },
  {
   "cell_type": "code",
   "execution_count": 6,
   "id": "8c763b18",
   "metadata": {},
   "outputs": [
    {
     "data": {
      "text/plain": [
       "2023    1785\n",
       "2022    1664\n",
       "2021     230\n",
       "2020      76\n",
       "Name: work_year, dtype: int64"
      ]
     },
     "execution_count": 6,
     "metadata": {},
     "output_type": "execute_result"
    }
   ],
   "source": [
    "data.work_year.value_counts()"
   ]
  },
  {
   "cell_type": "code",
   "execution_count": 7,
   "id": "9cc8a3de",
   "metadata": {},
   "outputs": [
    {
     "name": "stdout",
     "output_type": "stream",
     "text": [
      "<class 'pandas.core.frame.DataFrame'>\n",
      "RangeIndex: 3755 entries, 0 to 3754\n",
      "Data columns (total 11 columns):\n",
      " #   Column              Non-Null Count  Dtype \n",
      "---  ------              --------------  ----- \n",
      " 0   work_year           3755 non-null   int64 \n",
      " 1   experience_level    3755 non-null   object\n",
      " 2   employment_type     3755 non-null   object\n",
      " 3   job_title           3755 non-null   object\n",
      " 4   salary              3755 non-null   int64 \n",
      " 5   salary_currency     3755 non-null   object\n",
      " 6   salary_in_usd       3755 non-null   int64 \n",
      " 7   employee_residence  3755 non-null   object\n",
      " 8   remote_ratio        3755 non-null   int64 \n",
      " 9   company_location    3755 non-null   object\n",
      " 10  company_size        3755 non-null   object\n",
      "dtypes: int64(4), object(7)\n",
      "memory usage: 322.8+ KB\n"
     ]
    }
   ],
   "source": [
    "data.info()"
   ]
  },
  {
   "cell_type": "code",
   "execution_count": 8,
   "id": "8293107a",
   "metadata": {},
   "outputs": [
    {
     "data": {
      "text/plain": [
       "Index(['work_year', 'experience_level', 'employment_type', 'job_title',\n",
       "       'salary', 'salary_currency', 'salary_in_usd', 'employee_residence',\n",
       "       'remote_ratio', 'company_location', 'company_size'],\n",
       "      dtype='object')"
      ]
     },
     "execution_count": 8,
     "metadata": {},
     "output_type": "execute_result"
    }
   ],
   "source": [
    "data.columns"
   ]
  },
  {
   "cell_type": "code",
   "execution_count": 9,
   "id": "86b8a825",
   "metadata": {},
   "outputs": [
    {
     "name": "stdout",
     "output_type": "stream",
     "text": [
      "\n",
      " ['work_year'] \n",
      "\n",
      "[2023 2022 2020 2021]\n",
      "\n",
      " ['experience_level'] \n",
      "\n",
      "['SE' 'MI' 'EN' 'EX']\n",
      "\n",
      " ['employment_type'] \n",
      "\n",
      "['FT' 'CT' 'FL' 'PT']\n",
      "\n",
      " ['job_title'] \n",
      "\n",
      "['Principal Data Scientist' 'ML Engineer' 'Data Scientist'\n",
      " 'Applied Scientist' 'Data Analyst' 'Data Modeler' 'Research Engineer'\n",
      " 'Analytics Engineer' 'Business Intelligence Engineer'\n",
      " 'Machine Learning Engineer' 'Data Strategist' 'Data Engineer'\n",
      " 'Computer Vision Engineer' 'Data Quality Analyst'\n",
      " 'Compliance Data Analyst' 'Data Architect'\n",
      " 'Applied Machine Learning Engineer' 'AI Developer' 'Research Scientist'\n",
      " 'Data Analytics Manager' 'Business Data Analyst' 'Applied Data Scientist'\n",
      " 'Staff Data Analyst' 'ETL Engineer' 'Data DevOps Engineer' 'Head of Data'\n",
      " 'Data Science Manager' 'Data Manager' 'Machine Learning Researcher'\n",
      " 'Big Data Engineer' 'Data Specialist' 'Lead Data Analyst'\n",
      " 'BI Data Engineer' 'Director of Data Science'\n",
      " 'Machine Learning Scientist' 'MLOps Engineer' 'AI Scientist'\n",
      " 'Autonomous Vehicle Technician' 'Applied Machine Learning Scientist'\n",
      " 'Lead Data Scientist' 'Cloud Database Engineer' 'Financial Data Analyst'\n",
      " 'Data Infrastructure Engineer' 'Software Data Engineer' 'AI Programmer'\n",
      " 'Data Operations Engineer' 'BI Developer' 'Data Science Lead'\n",
      " 'Deep Learning Researcher' 'BI Analyst' 'Data Science Consultant'\n",
      " 'Data Analytics Specialist' 'Machine Learning Infrastructure Engineer'\n",
      " 'BI Data Analyst' 'Head of Data Science' 'Insight Analyst'\n",
      " 'Deep Learning Engineer' 'Machine Learning Software Engineer'\n",
      " 'Big Data Architect' 'Product Data Analyst'\n",
      " 'Computer Vision Software Engineer' 'Azure Data Engineer'\n",
      " 'Marketing Data Engineer' 'Data Analytics Lead' 'Data Lead'\n",
      " 'Data Science Engineer' 'Machine Learning Research Engineer'\n",
      " 'NLP Engineer' 'Manager Data Management' 'Machine Learning Developer'\n",
      " '3D Computer Vision Researcher' 'Principal Machine Learning Engineer'\n",
      " 'Data Analytics Engineer' 'Data Analytics Consultant'\n",
      " 'Data Management Specialist' 'Data Science Tech Lead'\n",
      " 'Data Scientist Lead' 'Cloud Data Engineer' 'Data Operations Analyst'\n",
      " 'Marketing Data Analyst' 'Power BI Developer' 'Product Data Scientist'\n",
      " 'Principal Data Architect' 'Machine Learning Manager'\n",
      " 'Lead Machine Learning Engineer' 'ETL Developer' 'Cloud Data Architect'\n",
      " 'Lead Data Engineer' 'Head of Machine Learning' 'Principal Data Analyst'\n",
      " 'Principal Data Engineer' 'Staff Data Scientist' 'Finance Data Analyst']\n",
      "\n",
      " ['salary'] \n",
      "\n",
      "[   80000    30000    25500   175000   120000   222200   136000   219000\n",
      "   141000   147100    90700   130000   100000   213660   130760   170000\n",
      "   150000   110000   275000   174000   230000   143200   225000   156400\n",
      "   200000    90000    72000   253200   342810   184590   162500   105380\n",
      "    64500  1650000   204620   110680   270703   221484   212750   185000\n",
      "   262000   245000   275300   183500   218500   199098   203300   123600\n",
      "   189110   139000   258750   231500   166000   172500   110500   238000\n",
      "   176000   237000   201450   309400   159100   115000    81500   280000\n",
      "   210000   280100   168100   193500   510000    65000   300000   185900\n",
      "   129300   140000    45000    36000   105000    70000   163196   145885\n",
      "   217000   202800   104300   145000   165000   132300   179170    94300\n",
      "   152500   116450   247300   133800   203000   133000   220000    54000\n",
      "   289800   214000   179820   143860   283200   188800   214200   252000\n",
      "   129000   155000   161800   141600   342300   176100    85000   138784\n",
      "    83270    75000   204500   138900   318300   212200    95000   195000\n",
      "   160000  1700000    38000    35000   168400   105200   190000   241000\n",
      "    55000    15000    47500   250000   228000   186000   180000    50000\n",
      "   205000   215000   247500   172200   224000  1400000   128000   329500\n",
      "   269600   203500   152000   239000   122900   191765   134236   112000\n",
      "    84000   135000   105500   293000   148500   240500   123700   152900\n",
      "   117100   173000   113000   260000   184000   149500   127075   219535\n",
      "   146115   199000   162000   221000   153000   187000   179000   109000\n",
      "   142000   198800   125000    86000   106000   280700   150450   250500\n",
      "   159500   130001    71907    93918    51962   257000   147000   222000\n",
      "   133200   156000   304000   161200    84570   240000   183600   289076\n",
      "   202353   157750   104650    68000    60000   181000   154000   146000\n",
      "    64200    56100   208450   170550   171250   113750   153600   100500\n",
      "   182500   121500   203100   114500    92700    61800   258000   167500\n",
      "   106500    57000   286000   207000   223250   178600   353200   249300\n",
      "   297300   198200   151800   317070   170730    20000   108000   134000\n",
      "   124000   124500   148700   125600   120250   183000  1500000   216000\n",
      "   143865   115092   132000   208049   128500   149600   102000   106800\n",
      "   151000     7000    40000   143000    42000   111000   265000   235000\n",
      "    60400   164000    56000    83500    52500   201036   134024    62000\n",
      "    58000   172000   163800   126000   139500   109400   205600   105700\n",
      "   239748   159832   186300   102500   149040   113900   172600   107900\n",
      "   180180   106020   376080   213120   206500   121600   194500   115500\n",
      "   115934    81666   206000   138000    92000    48000    87000   299500\n",
      "   245100   115100    73900   141288    94192   210914   116704   185700\n",
      "   169000   110600   193000   136850   276000   178500   161000    83300\n",
      "   112700   128750   106250   188500   117000   104500   127000    94000\n",
      "   210550   153300   161500   119500   148750   146300   153400   122700\n",
      "   123900   340000   121700   310000   149076    82365    85500    97750\n",
      "   201000   122000   116990    82920   142200   205920   171600    78000\n",
      "   116000    36050    34320    93800    67000  1300000  1000000   104000\n",
      "   152380   121904   128280   106900   192000   170500    60027    44737\n",
      "   131899   104891   124740    65488    72200    64980   179975    86466\n",
      "   168000   167580    87980   202000   148000   269000   158000   197000\n",
      "   290000   172800   300240   200160   370000   137500   323300   184700\n",
      "   153088   183310   144000    66000   126277   126500   272000   259000\n",
      "   101400   288000   215050   198000   114000   209300   182200   227000\n",
      "    52000   226700   133300   124999   800000    63000   253750   169200\n",
      "   213580   163625    12000   375000  1350000   231250   138750   284310\n",
      "   153090   225900   385000    93919   241871   133832   192500   216100\n",
      "   140800   284000   236000   248100   145900   155850   102544   151410\n",
      "   115360  1050000    25000   107000    23000   182750   314100   195800\n",
      "   350000   262500   209450   158677   103200    61200    59000   174500\n",
      "   107250   119000   285800   154600  5000000   124234    74540    79000\n",
      "   141290    74178   107500  1060000     6000  1440000   840000  1250000\n",
      "   182000   234100   223800   172100   232200   167200   291500   196200\n",
      "   150900   167000    96100   196000   126100   187500    24000   165750\n",
      "    89700    55250   175308   100706   229000  4000000   272550    64000\n",
      "   143100   180560   115440  1125000   261500   134500  1100000    94500\n",
      "   127500    51000   248400  4460000   149000   246000    10000  2500000\n",
      "  2800000   249500   149850   122500   102640    66100   122600   159000\n",
      "   255000   166700   194000   129400    89200   178750   197430   134760\n",
      "    99000   105120    75360   171000    13000   213000   227200    61000\n",
      "   243000   178000    96000   137000   189750   140250   191200   179500\n",
      "    26000   118000   177000   131000   193750   116250   208000    45555\n",
      "  6600000   140700    33000   154560   123648   177500   192564   144854\n",
      "   179305   142127   315000   243900   156600    77300    45600   184100\n",
      "   198440    47000   187200   116100   159699   138938    76000   125404\n",
      "   123000    92250    97000   157000   345600   230400   175950   130050\n",
      "   236600    27000   400000     8000   123400    88100   139600    85700\n",
      "    98200    98000   144200  3000000   188700   160395   191475   141525\n",
      "   156868   178800   132100   229998   154545    99750    68400   236900\n",
      "   159200   243225   179775   218000   145300   195400   131300   195700\n",
      "   130500   141300   102100    83000  1800000   633000   179400   193900\n",
      "   222640   182160   297500    93000    73000    40300   136994   101570\n",
      "    97500   212800   142800   500000   130240    83376    65004    84958\n",
      "    66822    81000    46000   204100   136100     7500    77000    28500\n",
      "   119300   146200   124270   185800   137400   148800  7500000    82000\n",
      "    32400   216200   144100   175100   189650   164996    99450   188100\n",
      "   139860   248700   167100   450000   189500   140100   177600   202900\n",
      "   900000  4200000   260500    73400    49500  2400000   206699    99100\n",
      "   221300    74000   249260   185400   128875    93700   136260   109280\n",
      "   150075   110925    22800   112900    90320    62500   105400    43200\n",
      "   215300   158200   209100   165400   132320   208775   147800  6000000\n",
      "   100800   140400    82900    63900   112300   108800   242000   165220\n",
      "   120160   124190   181940   220110   160080   106260   120600    84900\n",
      "   136620    99360   161342   137141   211500   138600   192400    61300\n",
      "    95550   136600   167875   205300   200100    70500   116150    99050\n",
      "   192600   266400   150260    69000   324000   185100   104890    53000\n",
      "    88000    66500   121000    29000    69999    52800   405000   380000\n",
      "  8500000  7000000    38400    82500   700000     8760    51999    41000\n",
      "    13400   103000   270000    45760    44000  2250000    37456 11000000\n",
      "    14000  2200000   188000  2100000    51400    61500   720000    31000\n",
      "    91000  1600000   256000    72500    65720   111775    93150    21600\n",
      "  4900000  1200000    21000  1799997     9272   120500    21844    22000\n",
      "    76760  1672000   420000 30400000    32000   416000    40900  4450000\n",
      "   423000   325000    34000    69600   435000    37000    19000    18000\n",
      "    39600  1335000  1450000   190200   138350   130800   412000]\n",
      "\n",
      " ['salary_currency'] \n",
      "\n",
      "['EUR' 'USD' 'INR' 'HKD' 'CHF' 'GBP' 'AUD' 'SGD' 'CAD' 'ILS' 'BRL' 'THB'\n",
      " 'PLN' 'HUF' 'CZK' 'DKK' 'JPY' 'MXN' 'TRY' 'CLP']\n",
      "\n",
      " ['salary_in_usd'] \n",
      "\n",
      "[ 85847  30000  25500 ...  28369 412000  94665]\n",
      "\n",
      " ['employee_residence'] \n",
      "\n",
      "['ES' 'US' 'CA' 'DE' 'GB' 'NG' 'IN' 'HK' 'PT' 'NL' 'CH' 'CF' 'FR' 'AU'\n",
      " 'FI' 'UA' 'IE' 'IL' 'GH' 'AT' 'CO' 'SG' 'SE' 'SI' 'MX' 'UZ' 'BR' 'TH'\n",
      " 'HR' 'PL' 'KW' 'VN' 'CY' 'AR' 'AM' 'BA' 'KE' 'GR' 'MK' 'LV' 'RO' 'PK'\n",
      " 'IT' 'MA' 'LT' 'BE' 'AS' 'IR' 'HU' 'SK' 'CN' 'CZ' 'CR' 'TR' 'CL' 'PR'\n",
      " 'DK' 'BO' 'PH' 'DO' 'EG' 'ID' 'AE' 'MY' 'JP' 'EE' 'HN' 'TN' 'RU' 'DZ'\n",
      " 'IQ' 'BG' 'JE' 'RS' 'NZ' 'MD' 'LU' 'MT']\n",
      "\n",
      " ['remote_ratio'] \n",
      "\n",
      "[100   0  50]\n",
      "\n",
      " ['company_location'] \n",
      "\n",
      "['ES' 'US' 'CA' 'DE' 'GB' 'NG' 'IN' 'HK' 'NL' 'CH' 'CF' 'FR' 'FI' 'UA'\n",
      " 'IE' 'IL' 'GH' 'CO' 'SG' 'AU' 'SE' 'SI' 'MX' 'BR' 'PT' 'RU' 'TH' 'HR'\n",
      " 'VN' 'EE' 'AM' 'BA' 'KE' 'GR' 'MK' 'LV' 'RO' 'PK' 'IT' 'MA' 'PL' 'AL'\n",
      " 'AR' 'LT' 'AS' 'CR' 'IR' 'BS' 'HU' 'AT' 'SK' 'CZ' 'TR' 'PR' 'DK' 'BO'\n",
      " 'PH' 'BE' 'ID' 'EG' 'AE' 'LU' 'MY' 'HN' 'JP' 'DZ' 'IQ' 'CN' 'NZ' 'CL'\n",
      " 'MD' 'MT']\n",
      "\n",
      " ['company_size'] \n",
      "\n",
      "['L' 'S' 'M']\n"
     ]
    }
   ],
   "source": [
    "#finding the unique value of all the columns\n",
    "for i in data.columns:\n",
    "    print('\\n',[i],'\\n')\n",
    "    print(data[i].unique())"
   ]
  },
  {
   "cell_type": "code",
   "execution_count": 10,
   "id": "49c6de78",
   "metadata": {},
   "outputs": [
    {
     "data": {
      "text/plain": [
       "work_year             0\n",
       "experience_level      0\n",
       "employment_type       0\n",
       "job_title             0\n",
       "salary                0\n",
       "salary_currency       0\n",
       "salary_in_usd         0\n",
       "employee_residence    0\n",
       "remote_ratio          0\n",
       "company_location      0\n",
       "company_size          0\n",
       "dtype: int64"
      ]
     },
     "execution_count": 10,
     "metadata": {},
     "output_type": "execute_result"
    }
   ],
   "source": [
    "data.isna().sum()"
   ]
  },
  {
   "cell_type": "code",
   "execution_count": 11,
   "id": "883b5f0e",
   "metadata": {},
   "outputs": [
    {
     "data": {
      "text/plain": [
       "<Axes: >"
      ]
     },
     "execution_count": 11,
     "metadata": {},
     "output_type": "execute_result"
    },
    {
     "data": {
      "image/png": "[encoded data removed]",
      "text/plain": [
       "<Figure size 640x480 with 2 Axes>"
      ]
     },
     "metadata": {},
     "output_type": "display_data"
    }
   ],
   "source": [
    "sns.heatmap(data.isna())"
   ]
  },
  {
   "cell_type": "markdown",
   "id": "3bb73721",
   "metadata": {},
   "source": [
    "All the null values are treated"
   ]
  },
  {
   "cell_type": "code",
   "execution_count": 12,
   "id": "61bbdf8e",
   "metadata": {},
   "outputs": [
    {
     "data": {
      "text/plain": [
       "<Axes: >"
      ]
     },
     "execution_count": 12,
     "metadata": {},
     "output_type": "execute_result"
    },
    {
     "data": {
      "image/png": "[encoded data removed]",
      "text/plain": [
       "<Figure size 640x480 with 2 Axes>"
      ]
     },
     "metadata": {},
     "output_type": "display_data"
    }
   ],
   "source": [
    "#dropping the \"work_year\" column in a correlation heatmap is a common step in correlation analysis to focus on the relationships\n",
    "#between other variables and to avoid potential confounding effects of time. \n",
    "sns.heatmap(data.corr().drop('work_year',axis=1),annot=True) "
   ]
  },
  {
   "cell_type": "code",
   "execution_count": 13,
   "id": "b09faf8d",
   "metadata": {},
   "outputs": [
    {
     "data": {
      "text/html": [
       "<div>\n",
       "<style scoped>\n",
       "    .dataframe tbody tr th:only-of-type {\n",
       "        vertical-align: middle;\n",
       "    }\n",
       "\n",
       "    .dataframe tbody tr th {\n",
       "        vertical-align: top;\n",
       "    }\n",
       "\n",
       "    .dataframe thead th {\n",
       "        text-align: right;\n",
       "    }\n",
       "</style>\n",
       "<table border=\"1\" class=\"dataframe\">\n",
       "  <thead>\n",
       "    <tr style=\"text-align: right;\">\n",
       "      <th></th>\n",
       "      <th>work_year</th>\n",
       "      <th>salary</th>\n",
       "      <th>salary_in_usd</th>\n",
       "      <th>remote_ratio</th>\n",
       "    </tr>\n",
       "  </thead>\n",
       "  <tbody>\n",
       "    <tr>\n",
       "      <th>count</th>\n",
       "      <td>3755.000000</td>\n",
       "      <td>3.755000e+03</td>\n",
       "      <td>3755.000000</td>\n",
       "      <td>3755.000000</td>\n",
       "    </tr>\n",
       "    <tr>\n",
       "      <th>mean</th>\n",
       "      <td>2022.373635</td>\n",
       "      <td>1.906956e+05</td>\n",
       "      <td>137570.389880</td>\n",
       "      <td>46.271638</td>\n",
       "    </tr>\n",
       "    <tr>\n",
       "      <th>std</th>\n",
       "      <td>0.691448</td>\n",
       "      <td>6.716765e+05</td>\n",
       "      <td>63055.625278</td>\n",
       "      <td>48.589050</td>\n",
       "    </tr>\n",
       "    <tr>\n",
       "      <th>min</th>\n",
       "      <td>2020.000000</td>\n",
       "      <td>6.000000e+03</td>\n",
       "      <td>5132.000000</td>\n",
       "      <td>0.000000</td>\n",
       "    </tr>\n",
       "    <tr>\n",
       "      <th>25%</th>\n",
       "      <td>2022.000000</td>\n",
       "      <td>1.000000e+05</td>\n",
       "      <td>95000.000000</td>\n",
       "      <td>0.000000</td>\n",
       "    </tr>\n",
       "    <tr>\n",
       "      <th>50%</th>\n",
       "      <td>2022.000000</td>\n",
       "      <td>1.380000e+05</td>\n",
       "      <td>135000.000000</td>\n",
       "      <td>0.000000</td>\n",
       "    </tr>\n",
       "    <tr>\n",
       "      <th>75%</th>\n",
       "      <td>2023.000000</td>\n",
       "      <td>1.800000e+05</td>\n",
       "      <td>175000.000000</td>\n",
       "      <td>100.000000</td>\n",
       "    </tr>\n",
       "    <tr>\n",
       "      <th>max</th>\n",
       "      <td>2023.000000</td>\n",
       "      <td>3.040000e+07</td>\n",
       "      <td>450000.000000</td>\n",
       "      <td>100.000000</td>\n",
       "    </tr>\n",
       "  </tbody>\n",
       "</table>\n",
       "</div>"
      ],
      "text/plain": [
       "         work_year        salary  salary_in_usd  remote_ratio\n",
       "count  3755.000000  3.755000e+03    3755.000000   3755.000000\n",
       "mean   2022.373635  1.906956e+05  137570.389880     46.271638\n",
       "std       0.691448  6.716765e+05   63055.625278     48.589050\n",
       "min    2020.000000  6.000000e+03    5132.000000      0.000000\n",
       "25%    2022.000000  1.000000e+05   95000.000000      0.000000\n",
       "50%    2022.000000  1.380000e+05  135000.000000      0.000000\n",
       "75%    2023.000000  1.800000e+05  175000.000000    100.000000\n",
       "max    2023.000000  3.040000e+07  450000.000000    100.000000"
      ]
     },
     "execution_count": 13,
     "metadata": {},
     "output_type": "execute_result"
    }
   ],
   "source": [
    "data.describe()"
   ]
  },
  {
   "cell_type": "code",
   "execution_count": 14,
   "id": "978e9362",
   "metadata": {},
   "outputs": [
    {
     "data": {
      "text/html": [
       "<div>\n",
       "<style scoped>\n",
       "    .dataframe tbody tr th:only-of-type {\n",
       "        vertical-align: middle;\n",
       "    }\n",
       "\n",
       "    .dataframe tbody tr th {\n",
       "        vertical-align: top;\n",
       "    }\n",
       "\n",
       "    .dataframe thead th {\n",
       "        text-align: right;\n",
       "    }\n",
       "</style>\n",
       "<table border=\"1\" class=\"dataframe\">\n",
       "  <thead>\n",
       "    <tr style=\"text-align: right;\">\n",
       "      <th></th>\n",
       "      <th>work_year</th>\n",
       "      <th>experience_level</th>\n",
       "      <th>employment_type</th>\n",
       "      <th>job_title</th>\n",
       "      <th>salary</th>\n",
       "      <th>salary_currency</th>\n",
       "      <th>salary_in_usd</th>\n",
       "      <th>employee_residence</th>\n",
       "      <th>remote_ratio</th>\n",
       "      <th>company_location</th>\n",
       "      <th>company_size</th>\n",
       "    </tr>\n",
       "  </thead>\n",
       "  <tbody>\n",
       "    <tr>\n",
       "      <th>0</th>\n",
       "      <td>2023</td>\n",
       "      <td>SE</td>\n",
       "      <td>FT</td>\n",
       "      <td>Principal Data Scientist</td>\n",
       "      <td>80000</td>\n",
       "      <td>EUR</td>\n",
       "      <td>85847</td>\n",
       "      <td>ES</td>\n",
       "      <td>100</td>\n",
       "      <td>ES</td>\n",
       "      <td>L</td>\n",
       "    </tr>\n",
       "    <tr>\n",
       "      <th>1</th>\n",
       "      <td>2023</td>\n",
       "      <td>MI</td>\n",
       "      <td>CT</td>\n",
       "      <td>ML Engineer</td>\n",
       "      <td>30000</td>\n",
       "      <td>USD</td>\n",
       "      <td>30000</td>\n",
       "      <td>US</td>\n",
       "      <td>100</td>\n",
       "      <td>US</td>\n",
       "      <td>S</td>\n",
       "    </tr>\n",
       "    <tr>\n",
       "      <th>2</th>\n",
       "      <td>2023</td>\n",
       "      <td>MI</td>\n",
       "      <td>CT</td>\n",
       "      <td>ML Engineer</td>\n",
       "      <td>25500</td>\n",
       "      <td>USD</td>\n",
       "      <td>25500</td>\n",
       "      <td>US</td>\n",
       "      <td>100</td>\n",
       "      <td>US</td>\n",
       "      <td>S</td>\n",
       "    </tr>\n",
       "    <tr>\n",
       "      <th>3</th>\n",
       "      <td>2023</td>\n",
       "      <td>SE</td>\n",
       "      <td>FT</td>\n",
       "      <td>Data Scientist</td>\n",
       "      <td>175000</td>\n",
       "      <td>USD</td>\n",
       "      <td>175000</td>\n",
       "      <td>CA</td>\n",
       "      <td>100</td>\n",
       "      <td>CA</td>\n",
       "      <td>M</td>\n",
       "    </tr>\n",
       "    <tr>\n",
       "      <th>4</th>\n",
       "      <td>2023</td>\n",
       "      <td>SE</td>\n",
       "      <td>FT</td>\n",
       "      <td>Data Scientist</td>\n",
       "      <td>120000</td>\n",
       "      <td>USD</td>\n",
       "      <td>120000</td>\n",
       "      <td>CA</td>\n",
       "      <td>100</td>\n",
       "      <td>CA</td>\n",
       "      <td>M</td>\n",
       "    </tr>\n",
       "  </tbody>\n",
       "</table>\n",
       "</div>"
      ],
      "text/plain": [
       "   work_year experience_level employment_type                 job_title  \\\n",
       "0       2023               SE              FT  Principal Data Scientist   \n",
       "1       2023               MI              CT               ML Engineer   \n",
       "2       2023               MI              CT               ML Engineer   \n",
       "3       2023               SE              FT            Data Scientist   \n",
       "4       2023               SE              FT            Data Scientist   \n",
       "\n",
       "   salary salary_currency  salary_in_usd employee_residence  remote_ratio  \\\n",
       "0   80000             EUR          85847                 ES           100   \n",
       "1   30000             USD          30000                 US           100   \n",
       "2   25500             USD          25500                 US           100   \n",
       "3  175000             USD         175000                 CA           100   \n",
       "4  120000             USD         120000                 CA           100   \n",
       "\n",
       "  company_location company_size  \n",
       "0               ES            L  \n",
       "1               US            S  \n",
       "2               US            S  \n",
       "3               CA            M  \n",
       "4               CA            M  "
      ]
     },
     "execution_count": 14,
     "metadata": {},
     "output_type": "execute_result"
    }
   ],
   "source": [
    "data.head()"
   ]
  },
  {
   "cell_type": "code",
   "execution_count": 15,
   "id": "c6c56a76",
   "metadata": {},
   "outputs": [
    {
     "data": {
      "text/html": [
       "<div>\n",
       "<style scoped>\n",
       "    .dataframe tbody tr th:only-of-type {\n",
       "        vertical-align: middle;\n",
       "    }\n",
       "\n",
       "    .dataframe tbody tr th {\n",
       "        vertical-align: top;\n",
       "    }\n",
       "\n",
       "    .dataframe thead th {\n",
       "        text-align: right;\n",
       "    }\n",
       "</style>\n",
       "<table border=\"1\" class=\"dataframe\">\n",
       "  <thead>\n",
       "    <tr style=\"text-align: right;\">\n",
       "      <th></th>\n",
       "      <th>work_year</th>\n",
       "      <th>experience_level</th>\n",
       "      <th>employment_type</th>\n",
       "      <th>job_title</th>\n",
       "      <th>salary</th>\n",
       "      <th>salary_currency</th>\n",
       "      <th>salary_in_usd</th>\n",
       "      <th>employee_residence</th>\n",
       "      <th>remote_ratio</th>\n",
       "      <th>company_location</th>\n",
       "      <th>company_size</th>\n",
       "    </tr>\n",
       "  </thead>\n",
       "  <tbody>\n",
       "    <tr>\n",
       "      <th>3750</th>\n",
       "      <td>2020</td>\n",
       "      <td>SE</td>\n",
       "      <td>FT</td>\n",
       "      <td>Data Scientist</td>\n",
       "      <td>412000</td>\n",
       "      <td>USD</td>\n",
       "      <td>412000</td>\n",
       "      <td>US</td>\n",
       "      <td>100</td>\n",
       "      <td>US</td>\n",
       "      <td>L</td>\n",
       "    </tr>\n",
       "    <tr>\n",
       "      <th>3751</th>\n",
       "      <td>2021</td>\n",
       "      <td>MI</td>\n",
       "      <td>FT</td>\n",
       "      <td>Principal Data Scientist</td>\n",
       "      <td>151000</td>\n",
       "      <td>USD</td>\n",
       "      <td>151000</td>\n",
       "      <td>US</td>\n",
       "      <td>100</td>\n",
       "      <td>US</td>\n",
       "      <td>L</td>\n",
       "    </tr>\n",
       "    <tr>\n",
       "      <th>3752</th>\n",
       "      <td>2020</td>\n",
       "      <td>EN</td>\n",
       "      <td>FT</td>\n",
       "      <td>Data Scientist</td>\n",
       "      <td>105000</td>\n",
       "      <td>USD</td>\n",
       "      <td>105000</td>\n",
       "      <td>US</td>\n",
       "      <td>100</td>\n",
       "      <td>US</td>\n",
       "      <td>S</td>\n",
       "    </tr>\n",
       "    <tr>\n",
       "      <th>3753</th>\n",
       "      <td>2020</td>\n",
       "      <td>EN</td>\n",
       "      <td>CT</td>\n",
       "      <td>Business Data Analyst</td>\n",
       "      <td>100000</td>\n",
       "      <td>USD</td>\n",
       "      <td>100000</td>\n",
       "      <td>US</td>\n",
       "      <td>100</td>\n",
       "      <td>US</td>\n",
       "      <td>L</td>\n",
       "    </tr>\n",
       "    <tr>\n",
       "      <th>3754</th>\n",
       "      <td>2021</td>\n",
       "      <td>SE</td>\n",
       "      <td>FT</td>\n",
       "      <td>Data Science Manager</td>\n",
       "      <td>7000000</td>\n",
       "      <td>INR</td>\n",
       "      <td>94665</td>\n",
       "      <td>IN</td>\n",
       "      <td>50</td>\n",
       "      <td>IN</td>\n",
       "      <td>L</td>\n",
       "    </tr>\n",
       "  </tbody>\n",
       "</table>\n",
       "</div>"
      ],
      "text/plain": [
       "      work_year experience_level employment_type                 job_title  \\\n",
       "3750       2020               SE              FT            Data Scientist   \n",
       "3751       2021               MI              FT  Principal Data Scientist   \n",
       "3752       2020               EN              FT            Data Scientist   \n",
       "3753       2020               EN              CT     Business Data Analyst   \n",
       "3754       2021               SE              FT      Data Science Manager   \n",
       "\n",
       "       salary salary_currency  salary_in_usd employee_residence  remote_ratio  \\\n",
       "3750   412000             USD         412000                 US           100   \n",
       "3751   151000             USD         151000                 US           100   \n",
       "3752   105000             USD         105000                 US           100   \n",
       "3753   100000             USD         100000                 US           100   \n",
       "3754  7000000             INR          94665                 IN            50   \n",
       "\n",
       "     company_location company_size  \n",
       "3750               US            L  \n",
       "3751               US            L  \n",
       "3752               US            S  \n",
       "3753               US            L  \n",
       "3754               IN            L  "
      ]
     },
     "execution_count": 15,
     "metadata": {},
     "output_type": "execute_result"
    }
   ],
   "source": [
    "data.tail()"
   ]
  },
  {
   "cell_type": "markdown",
   "id": "1d7325e0",
   "metadata": {},
   "source": [
    "# unwanted columns should be removed "
   ]
  },
  {
   "cell_type": "code",
   "execution_count": 16,
   "id": "dbe8bb8f",
   "metadata": {},
   "outputs": [],
   "source": [
    "data.drop(['salary','salary_currency','employee_residence'],axis=1,inplace=True)\n",
    "# dropping the salary and salary_currency column because salary_in _usd describes all information\n",
    "#dropping employee_residence because it does not give much important information for our analysis"
   ]
  },
  {
   "cell_type": "markdown",
   "id": "04289c03",
   "metadata": {},
   "source": [
    " #### Employment Type\n",
    "FT:Full-time\n",
    "\n",
    "PT:Part-time\n",
    "\n",
    "CT:Contractual\n",
    "\n",
    "FL:Freelancer"
   ]
  },
  {
   "cell_type": "code",
   "execution_count": 17,
   "id": "b4398a04",
   "metadata": {},
   "outputs": [],
   "source": [
    "#renaming employment types\n",
    "data['employment_type']=data['employment_type'].replace(\"FT\", \"Full-time\")\n",
    "data['employment_type']=data['employment_type'].replace(\"PT\", \"Part-time\")\n",
    "data['employment_type']=data['employment_type'].replace(\"CT\", \"Contractual\")\n",
    "data['employment_type']=data['employment_type'].replace(\"FL\", \"Freelancer\")"
   ]
  },
  {
   "cell_type": "code",
   "execution_count": 18,
   "id": "65737439",
   "metadata": {},
   "outputs": [
    {
     "data": {
      "text/plain": [
       "Full-time      3718\n",
       "Part-time        17\n",
       "Contractual      10\n",
       "Freelancer       10\n",
       "Name: employment_type, dtype: int64"
      ]
     },
     "execution_count": 18,
     "metadata": {},
     "output_type": "execute_result"
    }
   ],
   "source": [
    "data.employment_type.value_counts()"
   ]
  },
  {
   "cell_type": "code",
   "execution_count": 19,
   "id": "b4b2669e",
   "metadata": {},
   "outputs": [],
   "source": [
    "#Only full-time employees are present in the dataset now, so we can delete the column for employment type.\n",
    "#dropping employment_type column\n",
    "data=data.drop(['employment_type'], axis=1)"
   ]
  },
  {
   "cell_type": "code",
   "execution_count": 20,
   "id": "4e42f931",
   "metadata": {},
   "outputs": [
    {
     "data": {
      "text/plain": [
       "array(['Europe', 'North America', 'Africa', 'Asia', 'South America',\n",
       "       'Australia'], dtype=object)"
      ]
     },
     "execution_count": 20,
     "metadata": {},
     "output_type": "execute_result"
    }
   ],
   "source": [
    "#changing complany location information\n",
    "\n",
    "data['companyloc_continent']=data['company_location']\n",
    "\n",
    "data['companyloc_continent']=data['companyloc_continent'].replace(( 'AS', 'CA', 'CR', 'DO', 'SV', 'GT', 'HN', 'MX', 'NI', 'PA', 'PR', 'US', 'BS'), \"North America\")\n",
    "data['companyloc_continent']=data['companyloc_continent'].replace(('NG', 'GH', 'KE', 'ZA', 'DZ', 'EG', 'MA','TN','CF'), \"Africa\")\n",
    "data['companyloc_continent']=data['companyloc_continent'].replace(('CN', 'HK', 'IN', 'IL', 'IR', 'IQ', 'JP', 'KW', 'KZ', 'MY', 'PH', 'PK', 'SA', 'SG', 'KR', 'AE', 'TH', 'TR', 'UZ', 'VN','AM','ID', ), \"Asia\")\n",
    "data['companyloc_continent']=data['companyloc_continent'].replace(('AU', 'NZ','AS'), \"Australia\")\n",
    "data['companyloc_continent']=data['companyloc_continent'].replace(('AL', 'AT', 'BE', 'BA', 'BG', 'HR', 'CZ', 'DK', 'EE', 'FI', 'FR', 'DE', 'GR', 'HU', 'IS', 'IE', 'IT', 'LV', 'LT', 'LU', 'MT', 'NL', 'NO', 'PL', 'PT', 'RO', 'RS', 'SK', 'SI', 'ES', 'SE', 'CH', 'GB', 'UA', 'RU', 'CY','MK','JE','MD'), \"Europe\")\n",
    "data['companyloc_continent']=data['companyloc_continent'].replace(('AR', 'BO', 'BR', 'CL', 'CO', 'EC', 'PY', 'PE', 'UY', 'VE'), \"South America\")\n",
    "\n",
    "data['companyloc_continent'].unique()"
   ]
  },
  {
   "cell_type": "code",
   "execution_count": 21,
   "id": "f60ca269",
   "metadata": {},
   "outputs": [],
   "source": [
    "data.rename(columns={'work_year': 'salary_paid_year'}, inplace=True)"
   ]
  },
  {
   "cell_type": "code",
   "execution_count": 22,
   "id": "eb0e48a5",
   "metadata": {},
   "outputs": [],
   "source": [
    "#droping company_location atribute after replacing it by companyloc_continent\n",
    "data = data.drop('company_location',axis=1)"
   ]
  },
  {
   "cell_type": "code",
   "execution_count": 23,
   "id": "ac5e4056",
   "metadata": {},
   "outputs": [
    {
     "data": {
      "text/plain": [
       "Index(['salary_paid_year', 'experience_level', 'job_title', 'salary_in_usd',\n",
       "       'remote_ratio', 'company_size', 'companyloc_continent'],\n",
       "      dtype='object')"
      ]
     },
     "execution_count": 23,
     "metadata": {},
     "output_type": "execute_result"
    }
   ],
   "source": [
    "data.columns"
   ]
  },
  {
   "cell_type": "code",
   "execution_count": 24,
   "id": "4ec701fd",
   "metadata": {},
   "outputs": [
    {
     "data": {
      "text/html": [
       "<div>\n",
       "<style scoped>\n",
       "    .dataframe tbody tr th:only-of-type {\n",
       "        vertical-align: middle;\n",
       "    }\n",
       "\n",
       "    .dataframe tbody tr th {\n",
       "        vertical-align: top;\n",
       "    }\n",
       "\n",
       "    .dataframe thead th {\n",
       "        text-align: right;\n",
       "    }\n",
       "</style>\n",
       "<table border=\"1\" class=\"dataframe\">\n",
       "  <thead>\n",
       "    <tr style=\"text-align: right;\">\n",
       "      <th></th>\n",
       "      <th>salary_paid_year</th>\n",
       "      <th>experience_level</th>\n",
       "      <th>job_title</th>\n",
       "      <th>salary_in_usd</th>\n",
       "      <th>remote_ratio</th>\n",
       "      <th>company_size</th>\n",
       "      <th>companyloc_continent</th>\n",
       "    </tr>\n",
       "  </thead>\n",
       "  <tbody>\n",
       "    <tr>\n",
       "      <th>0</th>\n",
       "      <td>2023</td>\n",
       "      <td>SE</td>\n",
       "      <td>Principal Data Scientist</td>\n",
       "      <td>85847</td>\n",
       "      <td>100</td>\n",
       "      <td>L</td>\n",
       "      <td>Europe</td>\n",
       "    </tr>\n",
       "    <tr>\n",
       "      <th>1</th>\n",
       "      <td>2023</td>\n",
       "      <td>MI</td>\n",
       "      <td>ML Engineer</td>\n",
       "      <td>30000</td>\n",
       "      <td>100</td>\n",
       "      <td>S</td>\n",
       "      <td>North America</td>\n",
       "    </tr>\n",
       "    <tr>\n",
       "      <th>2</th>\n",
       "      <td>2023</td>\n",
       "      <td>MI</td>\n",
       "      <td>ML Engineer</td>\n",
       "      <td>25500</td>\n",
       "      <td>100</td>\n",
       "      <td>S</td>\n",
       "      <td>North America</td>\n",
       "    </tr>\n",
       "    <tr>\n",
       "      <th>3</th>\n",
       "      <td>2023</td>\n",
       "      <td>SE</td>\n",
       "      <td>Data Scientist</td>\n",
       "      <td>175000</td>\n",
       "      <td>100</td>\n",
       "      <td>M</td>\n",
       "      <td>North America</td>\n",
       "    </tr>\n",
       "    <tr>\n",
       "      <th>4</th>\n",
       "      <td>2023</td>\n",
       "      <td>SE</td>\n",
       "      <td>Data Scientist</td>\n",
       "      <td>120000</td>\n",
       "      <td>100</td>\n",
       "      <td>M</td>\n",
       "      <td>North America</td>\n",
       "    </tr>\n",
       "  </tbody>\n",
       "</table>\n",
       "</div>"
      ],
      "text/plain": [
       "   salary_paid_year experience_level                 job_title  salary_in_usd  \\\n",
       "0              2023               SE  Principal Data Scientist          85847   \n",
       "1              2023               MI               ML Engineer          30000   \n",
       "2              2023               MI               ML Engineer          25500   \n",
       "3              2023               SE            Data Scientist         175000   \n",
       "4              2023               SE            Data Scientist         120000   \n",
       "\n",
       "   remote_ratio company_size companyloc_continent  \n",
       "0           100            L               Europe  \n",
       "1           100            S        North America  \n",
       "2           100            S        North America  \n",
       "3           100            M        North America  \n",
       "4           100            M        North America  "
      ]
     },
     "execution_count": 24,
     "metadata": {},
     "output_type": "execute_result"
    }
   ],
   "source": [
    "data.head()"
   ]
  },
  {
   "cell_type": "markdown",
   "id": "75e4e0ea",
   "metadata": {},
   "source": [
    "# Outliers removing"
   ]
  },
  {
   "cell_type": "code",
   "execution_count": 25,
   "id": "46a58914",
   "metadata": {},
   "outputs": [
    {
     "data": {
      "text/plain": [
       "<Axes: >"
      ]
     },
     "execution_count": 25,
     "metadata": {},
     "output_type": "execute_result"
    },
    {
     "data": {
      "image/png": "[encoded data removed]",
      "text/plain": [
       "<Figure size 640x480 with 1 Axes>"
      ]
     },
     "metadata": {},
     "output_type": "display_data"
    }
   ],
   "source": [
    "data.boxplot()"
   ]
  },
  {
   "cell_type": "code",
   "execution_count": 26,
   "id": "82278711",
   "metadata": {},
   "outputs": [
    {
     "data": {
      "text/plain": [
       "<Axes: >"
      ]
     },
     "execution_count": 26,
     "metadata": {},
     "output_type": "execute_result"
    },
    {
     "data": {
      "image/png": "[encoded data removed]",
      "text/plain": [
       "<Figure size 640x480 with 1 Axes>"
      ]
     },
     "metadata": {},
     "output_type": "display_data"
    }
   ],
   "source": [
    "sns.boxplot(data.salary_in_usd)"
   ]
  },
  {
   "cell_type": "code",
   "execution_count": 27,
   "id": "31ada644",
   "metadata": {},
   "outputs": [
    {
     "data": {
      "text/plain": [
       "100000    99\n",
       "150000    98\n",
       "120000    91\n",
       "160000    84\n",
       "130000    82\n",
       "          ..\n",
       "234100     1\n",
       "223800     1\n",
       "172100     1\n",
       "232200     1\n",
       "94665      1\n",
       "Name: salary_in_usd, Length: 1035, dtype: int64"
      ]
     },
     "execution_count": 27,
     "metadata": {},
     "output_type": "execute_result"
    }
   ],
   "source": [
    "data.salary_in_usd.value_counts()"
   ]
  },
  {
   "cell_type": "code",
   "execution_count": 28,
   "id": "798e723b",
   "metadata": {},
   "outputs": [
    {
     "data": {
      "text/html": [
       "<div>\n",
       "<style scoped>\n",
       "    .dataframe tbody tr th:only-of-type {\n",
       "        vertical-align: middle;\n",
       "    }\n",
       "\n",
       "    .dataframe tbody tr th {\n",
       "        vertical-align: top;\n",
       "    }\n",
       "\n",
       "    .dataframe thead th {\n",
       "        text-align: right;\n",
       "    }\n",
       "</style>\n",
       "<table border=\"1\" class=\"dataframe\">\n",
       "  <thead>\n",
       "    <tr style=\"text-align: right;\">\n",
       "      <th></th>\n",
       "      <th>salary_paid_year</th>\n",
       "      <th>experience_level</th>\n",
       "      <th>job_title</th>\n",
       "      <th>salary_in_usd</th>\n",
       "      <th>remote_ratio</th>\n",
       "      <th>company_size</th>\n",
       "      <th>companyloc_continent</th>\n",
       "    </tr>\n",
       "  </thead>\n",
       "  <tbody>\n",
       "    <tr>\n",
       "      <th>528</th>\n",
       "      <td>2023</td>\n",
       "      <td>SE</td>\n",
       "      <td>AI Scientist</td>\n",
       "      <td>423834</td>\n",
       "      <td>0</td>\n",
       "      <td>L</td>\n",
       "      <td>Asia</td>\n",
       "    </tr>\n",
       "    <tr>\n",
       "      <th>2011</th>\n",
       "      <td>2022</td>\n",
       "      <td>MI</td>\n",
       "      <td>Data Analyst</td>\n",
       "      <td>430967</td>\n",
       "      <td>0</td>\n",
       "      <td>M</td>\n",
       "      <td>Europe</td>\n",
       "    </tr>\n",
       "    <tr>\n",
       "      <th>3463</th>\n",
       "      <td>2022</td>\n",
       "      <td>SE</td>\n",
       "      <td>Data Analytics Lead</td>\n",
       "      <td>405000</td>\n",
       "      <td>100</td>\n",
       "      <td>L</td>\n",
       "      <td>North America</td>\n",
       "    </tr>\n",
       "    <tr>\n",
       "      <th>3522</th>\n",
       "      <td>2020</td>\n",
       "      <td>MI</td>\n",
       "      <td>Research Scientist</td>\n",
       "      <td>450000</td>\n",
       "      <td>0</td>\n",
       "      <td>M</td>\n",
       "      <td>North America</td>\n",
       "    </tr>\n",
       "    <tr>\n",
       "      <th>3675</th>\n",
       "      <td>2021</td>\n",
       "      <td>EX</td>\n",
       "      <td>Principal Data Scientist</td>\n",
       "      <td>416000</td>\n",
       "      <td>100</td>\n",
       "      <td>S</td>\n",
       "      <td>North America</td>\n",
       "    </tr>\n",
       "    <tr>\n",
       "      <th>3747</th>\n",
       "      <td>2021</td>\n",
       "      <td>MI</td>\n",
       "      <td>Applied Machine Learning Scientist</td>\n",
       "      <td>423000</td>\n",
       "      <td>50</td>\n",
       "      <td>L</td>\n",
       "      <td>North America</td>\n",
       "    </tr>\n",
       "    <tr>\n",
       "      <th>3750</th>\n",
       "      <td>2020</td>\n",
       "      <td>SE</td>\n",
       "      <td>Data Scientist</td>\n",
       "      <td>412000</td>\n",
       "      <td>100</td>\n",
       "      <td>L</td>\n",
       "      <td>North America</td>\n",
       "    </tr>\n",
       "  </tbody>\n",
       "</table>\n",
       "</div>"
      ],
      "text/plain": [
       "      salary_paid_year experience_level                           job_title  \\\n",
       "528               2023               SE                        AI Scientist   \n",
       "2011              2022               MI                        Data Analyst   \n",
       "3463              2022               SE                 Data Analytics Lead   \n",
       "3522              2020               MI                  Research Scientist   \n",
       "3675              2021               EX            Principal Data Scientist   \n",
       "3747              2021               MI  Applied Machine Learning Scientist   \n",
       "3750              2020               SE                      Data Scientist   \n",
       "\n",
       "      salary_in_usd  remote_ratio company_size companyloc_continent  \n",
       "528          423834             0            L                 Asia  \n",
       "2011         430967             0            M               Europe  \n",
       "3463         405000           100            L        North America  \n",
       "3522         450000             0            M        North America  \n",
       "3675         416000           100            S        North America  \n",
       "3747         423000            50            L        North America  \n",
       "3750         412000           100            L        North America  "
      ]
     },
     "execution_count": 28,
     "metadata": {},
     "output_type": "execute_result"
    }
   ],
   "source": [
    "data[(data['salary_in_usd']>400000)]"
   ]
  },
  {
   "cell_type": "markdown",
   "id": "ddfdd30f",
   "metadata": {},
   "source": [
    "# Using IQR removing the outliers"
   ]
  },
  {
   "cell_type": "code",
   "execution_count": 29,
   "id": "4329ffa7",
   "metadata": {},
   "outputs": [],
   "source": [
    "Q1=data['salary_in_usd'].quantile(0.25)\n",
    "Q3=data['salary_in_usd'].quantile(0.75)"
   ]
  },
  {
   "cell_type": "code",
   "execution_count": 30,
   "id": "2597a2fa",
   "metadata": {},
   "outputs": [
    {
     "name": "stdout",
     "output_type": "stream",
     "text": [
      "95000.0 175000.0\n"
     ]
    }
   ],
   "source": [
    "print(Q1,Q3)"
   ]
  },
  {
   "cell_type": "code",
   "execution_count": 31,
   "id": "7c06dd2e",
   "metadata": {},
   "outputs": [
    {
     "data": {
      "text/plain": [
       "80000.0"
      ]
     },
     "execution_count": 31,
     "metadata": {},
     "output_type": "execute_result"
    }
   ],
   "source": [
    "IQR=Q3-Q1\n",
    "IQR"
   ]
  },
  {
   "cell_type": "code",
   "execution_count": 32,
   "id": "b9e9b1ad",
   "metadata": {},
   "outputs": [
    {
     "name": "stdout",
     "output_type": "stream",
     "text": [
      "lower -25000.0\n",
      "higher 295000.0\n"
     ]
    }
   ],
   "source": [
    "lower=Q1-1.5*IQR\n",
    "higher=Q3+1.5*IQR\n",
    "print('lower',lower)\n",
    "print('higher',higher)"
   ]
  },
  {
   "cell_type": "code",
   "execution_count": 33,
   "id": "838f8a96",
   "metadata": {},
   "outputs": [
    {
     "data": {
      "text/html": [
       "<div>\n",
       "<style scoped>\n",
       "    .dataframe tbody tr th:only-of-type {\n",
       "        vertical-align: middle;\n",
       "    }\n",
       "\n",
       "    .dataframe tbody tr th {\n",
       "        vertical-align: top;\n",
       "    }\n",
       "\n",
       "    .dataframe thead th {\n",
       "        text-align: right;\n",
       "    }\n",
       "</style>\n",
       "<table border=\"1\" class=\"dataframe\">\n",
       "  <thead>\n",
       "    <tr style=\"text-align: right;\">\n",
       "      <th></th>\n",
       "      <th>salary_paid_year</th>\n",
       "      <th>experience_level</th>\n",
       "      <th>job_title</th>\n",
       "      <th>salary_in_usd</th>\n",
       "      <th>remote_ratio</th>\n",
       "      <th>company_size</th>\n",
       "      <th>companyloc_continent</th>\n",
       "    </tr>\n",
       "  </thead>\n",
       "  <tbody>\n",
       "    <tr>\n",
       "      <th>33</th>\n",
       "      <td>2023</td>\n",
       "      <td>SE</td>\n",
       "      <td>Computer Vision Engineer</td>\n",
       "      <td>342810</td>\n",
       "      <td>0</td>\n",
       "      <td>M</td>\n",
       "      <td>North America</td>\n",
       "    </tr>\n",
       "    <tr>\n",
       "      <th>68</th>\n",
       "      <td>2023</td>\n",
       "      <td>SE</td>\n",
       "      <td>Applied Scientist</td>\n",
       "      <td>309400</td>\n",
       "      <td>0</td>\n",
       "      <td>L</td>\n",
       "      <td>North America</td>\n",
       "    </tr>\n",
       "    <tr>\n",
       "      <th>83</th>\n",
       "      <td>2022</td>\n",
       "      <td>EN</td>\n",
       "      <td>AI Developer</td>\n",
       "      <td>300000</td>\n",
       "      <td>50</td>\n",
       "      <td>L</td>\n",
       "      <td>Asia</td>\n",
       "    </tr>\n",
       "    <tr>\n",
       "      <th>133</th>\n",
       "      <td>2023</td>\n",
       "      <td>SE</td>\n",
       "      <td>Machine Learning Engineer</td>\n",
       "      <td>342300</td>\n",
       "      <td>0</td>\n",
       "      <td>L</td>\n",
       "      <td>North America</td>\n",
       "    </tr>\n",
       "    <tr>\n",
       "      <th>145</th>\n",
       "      <td>2023</td>\n",
       "      <td>SE</td>\n",
       "      <td>Machine Learning Engineer</td>\n",
       "      <td>318300</td>\n",
       "      <td>100</td>\n",
       "      <td>M</td>\n",
       "      <td>North America</td>\n",
       "    </tr>\n",
       "    <tr>\n",
       "      <th>...</th>\n",
       "      <td>...</td>\n",
       "      <td>...</td>\n",
       "      <td>...</td>\n",
       "      <td>...</td>\n",
       "      <td>...</td>\n",
       "      <td>...</td>\n",
       "      <td>...</td>\n",
       "    </tr>\n",
       "    <tr>\n",
       "      <th>3522</th>\n",
       "      <td>2020</td>\n",
       "      <td>MI</td>\n",
       "      <td>Research Scientist</td>\n",
       "      <td>450000</td>\n",
       "      <td>0</td>\n",
       "      <td>M</td>\n",
       "      <td>North America</td>\n",
       "    </tr>\n",
       "    <tr>\n",
       "      <th>3675</th>\n",
       "      <td>2021</td>\n",
       "      <td>EX</td>\n",
       "      <td>Principal Data Scientist</td>\n",
       "      <td>416000</td>\n",
       "      <td>100</td>\n",
       "      <td>S</td>\n",
       "      <td>North America</td>\n",
       "    </tr>\n",
       "    <tr>\n",
       "      <th>3697</th>\n",
       "      <td>2020</td>\n",
       "      <td>EX</td>\n",
       "      <td>Director of Data Science</td>\n",
       "      <td>325000</td>\n",
       "      <td>100</td>\n",
       "      <td>L</td>\n",
       "      <td>North America</td>\n",
       "    </tr>\n",
       "    <tr>\n",
       "      <th>3747</th>\n",
       "      <td>2021</td>\n",
       "      <td>MI</td>\n",
       "      <td>Applied Machine Learning Scientist</td>\n",
       "      <td>423000</td>\n",
       "      <td>50</td>\n",
       "      <td>L</td>\n",
       "      <td>North America</td>\n",
       "    </tr>\n",
       "    <tr>\n",
       "      <th>3750</th>\n",
       "      <td>2020</td>\n",
       "      <td>SE</td>\n",
       "      <td>Data Scientist</td>\n",
       "      <td>412000</td>\n",
       "      <td>100</td>\n",
       "      <td>L</td>\n",
       "      <td>North America</td>\n",
       "    </tr>\n",
       "  </tbody>\n",
       "</table>\n",
       "<p>63 rows × 7 columns</p>\n",
       "</div>"
      ],
      "text/plain": [
       "      salary_paid_year experience_level                           job_title  \\\n",
       "33                2023               SE            Computer Vision Engineer   \n",
       "68                2023               SE                   Applied Scientist   \n",
       "83                2022               EN                        AI Developer   \n",
       "133               2023               SE           Machine Learning Engineer   \n",
       "145               2023               SE           Machine Learning Engineer   \n",
       "...                ...              ...                                 ...   \n",
       "3522              2020               MI                  Research Scientist   \n",
       "3675              2021               EX            Principal Data Scientist   \n",
       "3697              2020               EX            Director of Data Science   \n",
       "3747              2021               MI  Applied Machine Learning Scientist   \n",
       "3750              2020               SE                      Data Scientist   \n",
       "\n",
       "      salary_in_usd  remote_ratio company_size companyloc_continent  \n",
       "33           342810             0            M        North America  \n",
       "68           309400             0            L        North America  \n",
       "83           300000            50            L                 Asia  \n",
       "133          342300             0            L        North America  \n",
       "145          318300           100            M        North America  \n",
       "...             ...           ...          ...                  ...  \n",
       "3522         450000             0            M        North America  \n",
       "3675         416000           100            S        North America  \n",
       "3697         325000           100            L        North America  \n",
       "3747         423000            50            L        North America  \n",
       "3750         412000           100            L        North America  \n",
       "\n",
       "[63 rows x 7 columns]"
      ]
     },
     "execution_count": 33,
     "metadata": {},
     "output_type": "execute_result"
    }
   ],
   "source": [
    "data[(data.salary_in_usd<lower)|(data.salary_in_usd>higher)]"
   ]
  },
  {
   "cell_type": "code",
   "execution_count": 34,
   "id": "797b518a",
   "metadata": {},
   "outputs": [
    {
     "data": {
      "text/html": [
       "<div>\n",
       "<style scoped>\n",
       "    .dataframe tbody tr th:only-of-type {\n",
       "        vertical-align: middle;\n",
       "    }\n",
       "\n",
       "    .dataframe tbody tr th {\n",
       "        vertical-align: top;\n",
       "    }\n",
       "\n",
       "    .dataframe thead th {\n",
       "        text-align: right;\n",
       "    }\n",
       "</style>\n",
       "<table border=\"1\" class=\"dataframe\">\n",
       "  <thead>\n",
       "    <tr style=\"text-align: right;\">\n",
       "      <th></th>\n",
       "      <th>salary_paid_year</th>\n",
       "      <th>experience_level</th>\n",
       "      <th>job_title</th>\n",
       "      <th>salary_in_usd</th>\n",
       "      <th>remote_ratio</th>\n",
       "      <th>company_size</th>\n",
       "      <th>companyloc_continent</th>\n",
       "    </tr>\n",
       "  </thead>\n",
       "  <tbody>\n",
       "    <tr>\n",
       "      <th>0</th>\n",
       "      <td>2023</td>\n",
       "      <td>SE</td>\n",
       "      <td>Principal Data Scientist</td>\n",
       "      <td>85847</td>\n",
       "      <td>100</td>\n",
       "      <td>L</td>\n",
       "      <td>Europe</td>\n",
       "    </tr>\n",
       "    <tr>\n",
       "      <th>1</th>\n",
       "      <td>2023</td>\n",
       "      <td>MI</td>\n",
       "      <td>ML Engineer</td>\n",
       "      <td>30000</td>\n",
       "      <td>100</td>\n",
       "      <td>S</td>\n",
       "      <td>North America</td>\n",
       "    </tr>\n",
       "    <tr>\n",
       "      <th>2</th>\n",
       "      <td>2023</td>\n",
       "      <td>MI</td>\n",
       "      <td>ML Engineer</td>\n",
       "      <td>25500</td>\n",
       "      <td>100</td>\n",
       "      <td>S</td>\n",
       "      <td>North America</td>\n",
       "    </tr>\n",
       "    <tr>\n",
       "      <th>3</th>\n",
       "      <td>2023</td>\n",
       "      <td>SE</td>\n",
       "      <td>Data Scientist</td>\n",
       "      <td>175000</td>\n",
       "      <td>100</td>\n",
       "      <td>M</td>\n",
       "      <td>North America</td>\n",
       "    </tr>\n",
       "    <tr>\n",
       "      <th>4</th>\n",
       "      <td>2023</td>\n",
       "      <td>SE</td>\n",
       "      <td>Data Scientist</td>\n",
       "      <td>120000</td>\n",
       "      <td>100</td>\n",
       "      <td>M</td>\n",
       "      <td>North America</td>\n",
       "    </tr>\n",
       "    <tr>\n",
       "      <th>...</th>\n",
       "      <td>...</td>\n",
       "      <td>...</td>\n",
       "      <td>...</td>\n",
       "      <td>...</td>\n",
       "      <td>...</td>\n",
       "      <td>...</td>\n",
       "      <td>...</td>\n",
       "    </tr>\n",
       "    <tr>\n",
       "      <th>3749</th>\n",
       "      <td>2021</td>\n",
       "      <td>SE</td>\n",
       "      <td>Data Specialist</td>\n",
       "      <td>165000</td>\n",
       "      <td>100</td>\n",
       "      <td>L</td>\n",
       "      <td>North America</td>\n",
       "    </tr>\n",
       "    <tr>\n",
       "      <th>3751</th>\n",
       "      <td>2021</td>\n",
       "      <td>MI</td>\n",
       "      <td>Principal Data Scientist</td>\n",
       "      <td>151000</td>\n",
       "      <td>100</td>\n",
       "      <td>L</td>\n",
       "      <td>North America</td>\n",
       "    </tr>\n",
       "    <tr>\n",
       "      <th>3752</th>\n",
       "      <td>2020</td>\n",
       "      <td>EN</td>\n",
       "      <td>Data Scientist</td>\n",
       "      <td>105000</td>\n",
       "      <td>100</td>\n",
       "      <td>S</td>\n",
       "      <td>North America</td>\n",
       "    </tr>\n",
       "    <tr>\n",
       "      <th>3753</th>\n",
       "      <td>2020</td>\n",
       "      <td>EN</td>\n",
       "      <td>Business Data Analyst</td>\n",
       "      <td>100000</td>\n",
       "      <td>100</td>\n",
       "      <td>L</td>\n",
       "      <td>North America</td>\n",
       "    </tr>\n",
       "    <tr>\n",
       "      <th>3754</th>\n",
       "      <td>2021</td>\n",
       "      <td>SE</td>\n",
       "      <td>Data Science Manager</td>\n",
       "      <td>94665</td>\n",
       "      <td>50</td>\n",
       "      <td>L</td>\n",
       "      <td>Asia</td>\n",
       "    </tr>\n",
       "  </tbody>\n",
       "</table>\n",
       "<p>3692 rows × 7 columns</p>\n",
       "</div>"
      ],
      "text/plain": [
       "      salary_paid_year experience_level                 job_title  \\\n",
       "0                 2023               SE  Principal Data Scientist   \n",
       "1                 2023               MI               ML Engineer   \n",
       "2                 2023               MI               ML Engineer   \n",
       "3                 2023               SE            Data Scientist   \n",
       "4                 2023               SE            Data Scientist   \n",
       "...                ...              ...                       ...   \n",
       "3749              2021               SE           Data Specialist   \n",
       "3751              2021               MI  Principal Data Scientist   \n",
       "3752              2020               EN            Data Scientist   \n",
       "3753              2020               EN     Business Data Analyst   \n",
       "3754              2021               SE      Data Science Manager   \n",
       "\n",
       "      salary_in_usd  remote_ratio company_size companyloc_continent  \n",
       "0             85847           100            L               Europe  \n",
       "1             30000           100            S        North America  \n",
       "2             25500           100            S        North America  \n",
       "3            175000           100            M        North America  \n",
       "4            120000           100            M        North America  \n",
       "...             ...           ...          ...                  ...  \n",
       "3749         165000           100            L        North America  \n",
       "3751         151000           100            L        North America  \n",
       "3752         105000           100            S        North America  \n",
       "3753         100000           100            L        North America  \n",
       "3754          94665            50            L                 Asia  \n",
       "\n",
       "[3692 rows x 7 columns]"
      ]
     },
     "execution_count": 34,
     "metadata": {},
     "output_type": "execute_result"
    }
   ],
   "source": [
    "data=data[(data.salary_in_usd>lower)&(data.salary_in_usd<higher)]\n",
    "data"
   ]
  },
  {
   "cell_type": "code",
   "execution_count": 35,
   "id": "a04b7664",
   "metadata": {},
   "outputs": [
    {
     "data": {
      "text/plain": [
       "<Axes: >"
      ]
     },
     "execution_count": 35,
     "metadata": {},
     "output_type": "execute_result"
    },
    {
     "data": {
      "image/png": "[encoded data removed]",
      "text/plain": [
       "<Figure size 640x480 with 1 Axes>"
      ]
     },
     "metadata": {},
     "output_type": "display_data"
    }
   ],
   "source": [
    "sns.boxplot(data.salary_in_usd)"
   ]
  },
  {
   "cell_type": "markdown",
   "id": "12797b3d",
   "metadata": {},
   "source": [
    "Therefore outliers are removed"
   ]
  },
  {
   "cell_type": "markdown",
   "id": "0c703f69",
   "metadata": {},
   "source": [
    "# EDA(Exploratory Data Analysis)"
   ]
  },
  {
   "cell_type": "code",
   "execution_count": 36,
   "id": "26ccba6a",
   "metadata": {},
   "outputs": [
    {
     "data": {
      "text/html": [
       "<div>\n",
       "<style scoped>\n",
       "    .dataframe tbody tr th:only-of-type {\n",
       "        vertical-align: middle;\n",
       "    }\n",
       "\n",
       "    .dataframe tbody tr th {\n",
       "        vertical-align: top;\n",
       "    }\n",
       "\n",
       "    .dataframe thead th {\n",
       "        text-align: right;\n",
       "    }\n",
       "</style>\n",
       "<table border=\"1\" class=\"dataframe\">\n",
       "  <thead>\n",
       "    <tr style=\"text-align: right;\">\n",
       "      <th></th>\n",
       "      <th>salary_paid_year</th>\n",
       "      <th>experience_level</th>\n",
       "      <th>job_title</th>\n",
       "      <th>salary_in_usd</th>\n",
       "      <th>remote_ratio</th>\n",
       "      <th>company_size</th>\n",
       "      <th>companyloc_continent</th>\n",
       "    </tr>\n",
       "  </thead>\n",
       "  <tbody>\n",
       "    <tr>\n",
       "      <th>0</th>\n",
       "      <td>2023</td>\n",
       "      <td>SE</td>\n",
       "      <td>Principal Data Scientist</td>\n",
       "      <td>85847</td>\n",
       "      <td>100</td>\n",
       "      <td>L</td>\n",
       "      <td>Europe</td>\n",
       "    </tr>\n",
       "    <tr>\n",
       "      <th>1</th>\n",
       "      <td>2023</td>\n",
       "      <td>MI</td>\n",
       "      <td>ML Engineer</td>\n",
       "      <td>30000</td>\n",
       "      <td>100</td>\n",
       "      <td>S</td>\n",
       "      <td>North America</td>\n",
       "    </tr>\n",
       "    <tr>\n",
       "      <th>2</th>\n",
       "      <td>2023</td>\n",
       "      <td>MI</td>\n",
       "      <td>ML Engineer</td>\n",
       "      <td>25500</td>\n",
       "      <td>100</td>\n",
       "      <td>S</td>\n",
       "      <td>North America</td>\n",
       "    </tr>\n",
       "  </tbody>\n",
       "</table>\n",
       "</div>"
      ],
      "text/plain": [
       "   salary_paid_year experience_level                 job_title  salary_in_usd  \\\n",
       "0              2023               SE  Principal Data Scientist          85847   \n",
       "1              2023               MI               ML Engineer          30000   \n",
       "2              2023               MI               ML Engineer          25500   \n",
       "\n",
       "   remote_ratio company_size companyloc_continent  \n",
       "0           100            L               Europe  \n",
       "1           100            S        North America  \n",
       "2           100            S        North America  "
      ]
     },
     "execution_count": 36,
     "metadata": {},
     "output_type": "execute_result"
    }
   ],
   "source": [
    "data.head(3)"
   ]
  },
  {
   "cell_type": "code",
   "execution_count": 37,
   "id": "68fcf6fb",
   "metadata": {},
   "outputs": [
    {
     "data": {
      "text/plain": [
       "array([[<Axes: title={'center': 'salary_paid_year'}>,\n",
       "        <Axes: title={'center': 'salary_in_usd'}>],\n",
       "       [<Axes: title={'center': 'remote_ratio'}>, <Axes: >]], dtype=object)"
      ]
     },
     "execution_count": 37,
     "metadata": {},
     "output_type": "execute_result"
    },
    {
     "data": {
      "image/png": "[encoded data removed]",
      "text/plain": [
       "<Figure size 1000x1000 with 4 Axes>"
      ]
     },
     "metadata": {},
     "output_type": "display_data"
    }
   ],
   "source": [
    "data.hist(figsize=(10,10))"
   ]
  },
  {
   "cell_type": "code",
   "execution_count": 38,
   "id": "7ec8e175",
   "metadata": {},
   "outputs": [
    {
     "data": {
      "text/html": [
       "<div>\n",
       "<style scoped>\n",
       "    .dataframe tbody tr th:only-of-type {\n",
       "        vertical-align: middle;\n",
       "    }\n",
       "\n",
       "    .dataframe tbody tr th {\n",
       "        vertical-align: top;\n",
       "    }\n",
       "\n",
       "    .dataframe thead th {\n",
       "        text-align: right;\n",
       "    }\n",
       "</style>\n",
       "<table border=\"1\" class=\"dataframe\">\n",
       "  <thead>\n",
       "    <tr style=\"text-align: right;\">\n",
       "      <th></th>\n",
       "      <th>salary_in_usd</th>\n",
       "    </tr>\n",
       "    <tr>\n",
       "      <th>job_title</th>\n",
       "      <th></th>\n",
       "    </tr>\n",
       "  </thead>\n",
       "  <tbody>\n",
       "    <tr>\n",
       "      <th>Cloud Data Architect</th>\n",
       "      <td>250000.00</td>\n",
       "    </tr>\n",
       "    <tr>\n",
       "      <th>Data Lead</th>\n",
       "      <td>212500.00</td>\n",
       "    </tr>\n",
       "    <tr>\n",
       "      <th>Principal Data Engineer</th>\n",
       "      <td>192500.00</td>\n",
       "    </tr>\n",
       "    <tr>\n",
       "      <th>Principal Machine Learning Engineer</th>\n",
       "      <td>190000.00</td>\n",
       "    </tr>\n",
       "    <tr>\n",
       "      <th>Applied Scientist</th>\n",
       "      <td>183028.00</td>\n",
       "    </tr>\n",
       "    <tr>\n",
       "      <th>Data Science Manager</th>\n",
       "      <td>176458.22</td>\n",
       "    </tr>\n",
       "    <tr>\n",
       "      <th>Data Infrastructure Engineer</th>\n",
       "      <td>175051.67</td>\n",
       "    </tr>\n",
       "    <tr>\n",
       "      <th>Business Intelligence Engineer</th>\n",
       "      <td>174150.00</td>\n",
       "    </tr>\n",
       "    <tr>\n",
       "      <th>Machine Learning Software Engineer</th>\n",
       "      <td>172133.33</td>\n",
       "    </tr>\n",
       "    <tr>\n",
       "      <th>Head of Data</th>\n",
       "      <td>167675.00</td>\n",
       "    </tr>\n",
       "  </tbody>\n",
       "</table>\n",
       "</div>"
      ],
      "text/plain": [
       "                                     salary_in_usd\n",
       "job_title                                         \n",
       "Cloud Data Architect                     250000.00\n",
       "Data Lead                                212500.00\n",
       "Principal Data Engineer                  192500.00\n",
       "Principal Machine Learning Engineer      190000.00\n",
       "Applied Scientist                        183028.00\n",
       "Data Science Manager                     176458.22\n",
       "Data Infrastructure Engineer             175051.67\n",
       "Business Intelligence Engineer           174150.00\n",
       "Machine Learning Software Engineer       172133.33\n",
       "Head of Data                             167675.00"
      ]
     },
     "execution_count": 38,
     "metadata": {},
     "output_type": "execute_result"
    }
   ],
   "source": [
    "top_salary =  data.groupby('job_title').agg({'salary_in_usd':'mean'}).round(2).sort_values('salary_in_usd', ascending=False).head(10)\n",
    "top_salary.head(10)"
   ]
  },
  {
   "cell_type": "code",
   "execution_count": 39,
   "id": "208136fe",
   "metadata": {},
   "outputs": [
    {
     "data": {
      "image/png": "[encoded data removed]",
      "text/plain": [
       "<Figure size 800x400 with 1 Axes>"
      ]
     },
     "metadata": {},
     "output_type": "display_data"
    }
   ],
   "source": [
    "plt.figure(figsize=(8,4))\n",
    "\n",
    "sns.set(style=\"whitegrid\")\n",
    "ax= sns.barplot(y = top_salary.index, x ='salary_in_usd', data = top_salary,palette = \"viridis\",width=0.9)\n",
    "plt.title('Top 10 Highest Annual Salaries and Job Titles\\n', fontsize=16, fontweight=\"bold\", loc=\"center\")\n",
    "plt.xlabel('\\nSalary (USD)', color=\"black\", fontsize=10)\n",
    "plt.ylabel('Job title', color=\"black\", fontsize=10)\n",
    "plt.xticks(fontsize=10, color=\"black\")\n",
    "plt.yticks(fontsize=10, color=\"black\")\n",
    "\n",
    "for i in ax.containers:\n",
    "    ax.bar_label(i, size=10, label_type = \"center\", color=\"white\", fontweight=\"bold\")\n",
    "\n",
    "plt.show()"
   ]
  },
  {
   "cell_type": "markdown",
   "id": "4183b658",
   "metadata": {},
   "source": [
    "* Here Cloud Data Architect has the highest salary and Head of Data has the lowest salary, comparatively."
   ]
  },
  {
   "cell_type": "code",
   "execution_count": 40,
   "id": "fef2d837",
   "metadata": {},
   "outputs": [
    {
     "data": {
      "text/plain": [
       "<Axes: xlabel='salary_paid_year'>"
      ]
     },
     "execution_count": 40,
     "metadata": {},
     "output_type": "execute_result"
    },
    {
     "data": {
      "image/png": "[encoded data removed]",
      "text/plain": [
       "<Figure size 640x480 with 1 Axes>"
      ]
     },
     "metadata": {},
     "output_type": "display_data"
    }
   ],
   "source": [
    "data.groupby(\"salary_paid_year\")[\"salary_in_usd\"].mean().plot(kind=\"bar\",color=['#8f1402','#014d4e','#4b006e'])"
   ]
  },
  {
   "cell_type": "code",
   "execution_count": 41,
   "id": "99c6751c",
   "metadata": {},
   "outputs": [
    {
     "data": {
      "text/plain": [
       "<Axes: xlabel='company_size', ylabel='salary_in_usd'>"
      ]
     },
     "execution_count": 41,
     "metadata": {},
     "output_type": "execute_result"
    },
    {
     "data": {
      "image/png": "[encoded data removed]",
      "text/plain": [
       "<Figure size 640x480 with 1 Axes>"
      ]
     },
     "metadata": {},
     "output_type": "display_data"
    }
   ],
   "source": [
    "data.groupby(\"company_size\")[\"salary_in_usd\"].mean().plot(kind=\"bar\",color=['#8f1402','#014d4e','#4b006e'],ylabel = 'salary_in_usd')"
   ]
  },
  {
   "cell_type": "markdown",
   "id": "19b46f93",
   "metadata": {},
   "source": [
    "* We can observe that if the company is medium the salary is more compare to a large size company"
   ]
  },
  {
   "cell_type": "markdown",
   "id": "d8903848",
   "metadata": {},
   "source": [
    " * As experience increases average salary will also increases \n",
    "Here senier exicutive has the average highest salary"
   ]
  },
  {
   "cell_type": "code",
   "execution_count": 42,
   "id": "9c8a55c0",
   "metadata": {},
   "outputs": [
    {
     "data": {
      "text/plain": [
       "<Axes: xlabel='experience_level'>"
      ]
     },
     "execution_count": 42,
     "metadata": {},
     "output_type": "execute_result"
    },
    {
     "data": {
      "image/png": "[encoded data removed]",
      "text/plain": [
       "<Figure size 640x480 with 1 Axes>"
      ]
     },
     "metadata": {},
     "output_type": "display_data"
    }
   ],
   "source": [
    "data.groupby(\"experience_level\")[\"salary_in_usd\"].mean().plot(kind=\"bar\",color=['#8f1402','#014d4e','#4b006e'])"
   ]
  },
  {
   "cell_type": "markdown",
   "id": "3829fa8f",
   "metadata": {},
   "source": [
    "#### Experience levels\n",
    "EN: Entry Level\n",
    "\n",
    "MI: Mid-Level\n",
    "\n",
    "SE: Senior-Level\n",
    "\n",
    "EX: Executive Level"
   ]
  },
  {
   "cell_type": "markdown",
   "id": "d9d83b0c",
   "metadata": {},
   "source": [
    " * As experience increases average salary will also increases \n",
    "Here  exicutive level has the average highest salary"
   ]
  },
  {
   "cell_type": "code",
   "execution_count": 43,
   "id": "16c3e135",
   "metadata": {},
   "outputs": [
    {
     "data": {
      "text/plain": [
       "<Axes: xlabel='remote_ratio'>"
      ]
     },
     "execution_count": 43,
     "metadata": {},
     "output_type": "execute_result"
    },
    {
     "data": {
      "image/png": "[encoded data removed]",
      "text/plain": [
       "<Figure size 640x480 with 1 Axes>"
      ]
     },
     "metadata": {},
     "output_type": "display_data"
    }
   ],
   "source": [
    "data.groupby(\"remote_ratio\")[\"salary_in_usd\"].mean().plot(kind=\"bar\",color=['#8f1402','#014d4e','#4b006e'])"
   ]
  },
  {
   "cell_type": "markdown",
   "id": "ede38640",
   "metadata": {},
   "source": [
    "0 means onsite,\n",
    "\n",
    "50 means hybrid,\n",
    "\n",
    "100 means remotely, here onsite employees are having highest salary"
   ]
  },
  {
   "cell_type": "code",
   "execution_count": 44,
   "id": "ae38adcd",
   "metadata": {},
   "outputs": [
    {
     "data": {
      "text/plain": [
       "remote_ratio\n",
       "0      141082.325926\n",
       "50      73761.989247\n",
       "100    133251.019183\n",
       "Name: salary_in_usd, dtype: float64"
      ]
     },
     "execution_count": 44,
     "metadata": {},
     "output_type": "execute_result"
    }
   ],
   "source": [
    "data.groupby('remote_ratio')['salary_in_usd'].mean()"
   ]
  },
  {
   "cell_type": "code",
   "execution_count": 45,
   "id": "a9b3765f",
   "metadata": {},
   "outputs": [
    {
     "data": {
      "text/plain": [
       "<Axes: xlabel='companyloc_continent'>"
      ]
     },
     "execution_count": 45,
     "metadata": {},
     "output_type": "execute_result"
    },
    {
     "data": {
      "image/png": "[encoded data removed]",
      "text/plain": [
       "<Figure size 640x480 with 1 Axes>"
      ]
     },
     "metadata": {},
     "output_type": "display_data"
    }
   ],
   "source": [
    "data.groupby(\"companyloc_continent\")[\"salary_in_usd\"].mean().plot(kind=\"bar\",color=['#8f1402','#014d4e','#4b006e'])"
   ]
  },
  {
   "cell_type": "markdown",
   "id": "c7491eee",
   "metadata": {},
   "source": [
    "Europe = 0\n",
    "\n",
    "North America = 1\n",
    "\n",
    "Africa = 2\n",
    "\n",
    "Asia = 3\n",
    "\n",
    "South America = 4\n",
    "\n",
    "Australia = 5"
   ]
  },
  {
   "cell_type": "markdown",
   "id": "c73b93aa",
   "metadata": {},
   "source": [
    "# Label Encoding"
   ]
  },
  {
   "cell_type": "code",
   "execution_count": 47,
   "id": "fa16101b",
   "metadata": {},
   "outputs": [
    {
     "name": "stdout",
     "output_type": "stream",
     "text": [
      "<class 'pandas.core.frame.DataFrame'>\n",
      "Int64Index: 3692 entries, 0 to 3754\n",
      "Data columns (total 7 columns):\n",
      " #   Column                Non-Null Count  Dtype \n",
      "---  ------                --------------  ----- \n",
      " 0   salary_paid_year      3692 non-null   int64 \n",
      " 1   experience_level      3692 non-null   object\n",
      " 2   job_title             3692 non-null   object\n",
      " 3   salary_in_usd         3692 non-null   int64 \n",
      " 4   remote_ratio          3692 non-null   int64 \n",
      " 5   company_size          3692 non-null   object\n",
      " 6   companyloc_continent  3692 non-null   object\n",
      "dtypes: int64(3), object(4)\n",
      "memory usage: 359.8+ KB\n"
     ]
    }
   ],
   "source": [
    "data.info()"
   ]
  },
  {
   "cell_type": "code",
   "execution_count": 48,
   "id": "708d6828",
   "metadata": {},
   "outputs": [],
   "source": [
    "from sklearn.preprocessing import LabelEncoder \n",
    "# Initialize the LabelEncoder\n",
    "le = LabelEncoder()"
   ]
  },
  {
   "cell_type": "code",
   "execution_count": 49,
   "id": "90ad1d2e",
   "metadata": {},
   "outputs": [],
   "source": [
    "data['experience_level'] =le.fit_transform(data['experience_level'])"
   ]
  },
  {
   "cell_type": "code",
   "execution_count": 50,
   "id": "70a7e434",
   "metadata": {},
   "outputs": [
    {
     "data": {
      "text/html": [
       "<div>\n",
       "<style scoped>\n",
       "    .dataframe tbody tr th:only-of-type {\n",
       "        vertical-align: middle;\n",
       "    }\n",
       "\n",
       "    .dataframe tbody tr th {\n",
       "        vertical-align: top;\n",
       "    }\n",
       "\n",
       "    .dataframe thead th {\n",
       "        text-align: right;\n",
       "    }\n",
       "</style>\n",
       "<table border=\"1\" class=\"dataframe\">\n",
       "  <thead>\n",
       "    <tr style=\"text-align: right;\">\n",
       "      <th></th>\n",
       "      <th>salary_paid_year</th>\n",
       "      <th>experience_level</th>\n",
       "      <th>job_title</th>\n",
       "      <th>salary_in_usd</th>\n",
       "      <th>remote_ratio</th>\n",
       "      <th>company_size</th>\n",
       "      <th>companyloc_continent</th>\n",
       "    </tr>\n",
       "  </thead>\n",
       "  <tbody>\n",
       "    <tr>\n",
       "      <th>0</th>\n",
       "      <td>2023</td>\n",
       "      <td>3</td>\n",
       "      <td>Principal Data Scientist</td>\n",
       "      <td>85847</td>\n",
       "      <td>100</td>\n",
       "      <td>L</td>\n",
       "      <td>Europe</td>\n",
       "    </tr>\n",
       "    <tr>\n",
       "      <th>1</th>\n",
       "      <td>2023</td>\n",
       "      <td>2</td>\n",
       "      <td>ML Engineer</td>\n",
       "      <td>30000</td>\n",
       "      <td>100</td>\n",
       "      <td>S</td>\n",
       "      <td>North America</td>\n",
       "    </tr>\n",
       "    <tr>\n",
       "      <th>2</th>\n",
       "      <td>2023</td>\n",
       "      <td>2</td>\n",
       "      <td>ML Engineer</td>\n",
       "      <td>25500</td>\n",
       "      <td>100</td>\n",
       "      <td>S</td>\n",
       "      <td>North America</td>\n",
       "    </tr>\n",
       "    <tr>\n",
       "      <th>3</th>\n",
       "      <td>2023</td>\n",
       "      <td>3</td>\n",
       "      <td>Data Scientist</td>\n",
       "      <td>175000</td>\n",
       "      <td>100</td>\n",
       "      <td>M</td>\n",
       "      <td>North America</td>\n",
       "    </tr>\n",
       "    <tr>\n",
       "      <th>4</th>\n",
       "      <td>2023</td>\n",
       "      <td>3</td>\n",
       "      <td>Data Scientist</td>\n",
       "      <td>120000</td>\n",
       "      <td>100</td>\n",
       "      <td>M</td>\n",
       "      <td>North America</td>\n",
       "    </tr>\n",
       "  </tbody>\n",
       "</table>\n",
       "</div>"
      ],
      "text/plain": [
       "   salary_paid_year  experience_level                 job_title  \\\n",
       "0              2023                 3  Principal Data Scientist   \n",
       "1              2023                 2               ML Engineer   \n",
       "2              2023                 2               ML Engineer   \n",
       "3              2023                 3            Data Scientist   \n",
       "4              2023                 3            Data Scientist   \n",
       "\n",
       "   salary_in_usd  remote_ratio company_size companyloc_continent  \n",
       "0          85847           100            L               Europe  \n",
       "1          30000           100            S        North America  \n",
       "2          25500           100            S        North America  \n",
       "3         175000           100            M        North America  \n",
       "4         120000           100            M        North America  "
      ]
     },
     "execution_count": 50,
     "metadata": {},
     "output_type": "execute_result"
    }
   ],
   "source": [
    "data.head()"
   ]
  },
  {
   "cell_type": "code",
   "execution_count": 51,
   "id": "b396e26f",
   "metadata": {},
   "outputs": [],
   "source": [
    "data['job_title'] =le.fit_transform(data['job_title'])\n",
    "data['companyloc_continent'] =le.fit_transform(data['companyloc_continent'])\n",
    "data['company_size'] =le.fit_transform(data['company_size'])"
   ]
  },
  {
   "cell_type": "code",
   "execution_count": 52,
   "id": "8da34d17",
   "metadata": {},
   "outputs": [
    {
     "data": {
      "text/html": [
       "<div>\n",
       "<style scoped>\n",
       "    .dataframe tbody tr th:only-of-type {\n",
       "        vertical-align: middle;\n",
       "    }\n",
       "\n",
       "    .dataframe tbody tr th {\n",
       "        vertical-align: top;\n",
       "    }\n",
       "\n",
       "    .dataframe thead th {\n",
       "        text-align: right;\n",
       "    }\n",
       "</style>\n",
       "<table border=\"1\" class=\"dataframe\">\n",
       "  <thead>\n",
       "    <tr style=\"text-align: right;\">\n",
       "      <th></th>\n",
       "      <th>salary_paid_year</th>\n",
       "      <th>experience_level</th>\n",
       "      <th>job_title</th>\n",
       "      <th>salary_in_usd</th>\n",
       "      <th>remote_ratio</th>\n",
       "      <th>company_size</th>\n",
       "      <th>companyloc_continent</th>\n",
       "    </tr>\n",
       "  </thead>\n",
       "  <tbody>\n",
       "    <tr>\n",
       "      <th>0</th>\n",
       "      <td>2023</td>\n",
       "      <td>3</td>\n",
       "      <td>83</td>\n",
       "      <td>85847</td>\n",
       "      <td>100</td>\n",
       "      <td>0</td>\n",
       "      <td>3</td>\n",
       "    </tr>\n",
       "    <tr>\n",
       "      <th>1</th>\n",
       "      <td>2023</td>\n",
       "      <td>2</td>\n",
       "      <td>65</td>\n",
       "      <td>30000</td>\n",
       "      <td>100</td>\n",
       "      <td>2</td>\n",
       "      <td>4</td>\n",
       "    </tr>\n",
       "    <tr>\n",
       "      <th>2</th>\n",
       "      <td>2023</td>\n",
       "      <td>2</td>\n",
       "      <td>65</td>\n",
       "      <td>25500</td>\n",
       "      <td>100</td>\n",
       "      <td>2</td>\n",
       "      <td>4</td>\n",
       "    </tr>\n",
       "    <tr>\n",
       "      <th>3</th>\n",
       "      <td>2023</td>\n",
       "      <td>3</td>\n",
       "      <td>46</td>\n",
       "      <td>175000</td>\n",
       "      <td>100</td>\n",
       "      <td>1</td>\n",
       "      <td>4</td>\n",
       "    </tr>\n",
       "    <tr>\n",
       "      <th>4</th>\n",
       "      <td>2023</td>\n",
       "      <td>3</td>\n",
       "      <td>46</td>\n",
       "      <td>120000</td>\n",
       "      <td>100</td>\n",
       "      <td>1</td>\n",
       "      <td>4</td>\n",
       "    </tr>\n",
       "  </tbody>\n",
       "</table>\n",
       "</div>"
      ],
      "text/plain": [
       "   salary_paid_year  experience_level  job_title  salary_in_usd  remote_ratio  \\\n",
       "0              2023                 3         83          85847           100   \n",
       "1              2023                 2         65          30000           100   \n",
       "2              2023                 2         65          25500           100   \n",
       "3              2023                 3         46         175000           100   \n",
       "4              2023                 3         46         120000           100   \n",
       "\n",
       "   company_size  companyloc_continent  \n",
       "0             0                     3  \n",
       "1             2                     4  \n",
       "2             2                     4  \n",
       "3             1                     4  \n",
       "4             1                     4  "
      ]
     },
     "execution_count": 52,
     "metadata": {},
     "output_type": "execute_result"
    }
   ],
   "source": [
    "data.head()"
   ]
  },
  {
   "cell_type": "markdown",
   "id": "527eb052",
   "metadata": {},
   "source": [
    "# Going Machine Learning"
   ]
  },
  {
   "cell_type": "code",
   "execution_count": 53,
   "id": "3a1074d2",
   "metadata": {},
   "outputs": [
    {
     "data": {
      "text/html": [
       "<div>\n",
       "<style scoped>\n",
       "    .dataframe tbody tr th:only-of-type {\n",
       "        vertical-align: middle;\n",
       "    }\n",
       "\n",
       "    .dataframe tbody tr th {\n",
       "        vertical-align: top;\n",
       "    }\n",
       "\n",
       "    .dataframe thead th {\n",
       "        text-align: right;\n",
       "    }\n",
       "</style>\n",
       "<table border=\"1\" class=\"dataframe\">\n",
       "  <thead>\n",
       "    <tr style=\"text-align: right;\">\n",
       "      <th></th>\n",
       "      <th>salary_paid_year</th>\n",
       "      <th>experience_level</th>\n",
       "      <th>job_title</th>\n",
       "      <th>salary_in_usd</th>\n",
       "      <th>remote_ratio</th>\n",
       "      <th>company_size</th>\n",
       "      <th>companyloc_continent</th>\n",
       "    </tr>\n",
       "  </thead>\n",
       "  <tbody>\n",
       "    <tr>\n",
       "      <th>0</th>\n",
       "      <td>2023</td>\n",
       "      <td>3</td>\n",
       "      <td>83</td>\n",
       "      <td>85847</td>\n",
       "      <td>100</td>\n",
       "      <td>0</td>\n",
       "      <td>3</td>\n",
       "    </tr>\n",
       "  </tbody>\n",
       "</table>\n",
       "</div>"
      ],
      "text/plain": [
       "   salary_paid_year  experience_level  job_title  salary_in_usd  remote_ratio  \\\n",
       "0              2023                 3         83          85847           100   \n",
       "\n",
       "   company_size  companyloc_continent  \n",
       "0             0                     3  "
      ]
     },
     "execution_count": 53,
     "metadata": {},
     "output_type": "execute_result"
    }
   ],
   "source": [
    "data.head(1)"
   ]
  },
  {
   "cell_type": "code",
   "execution_count": 54,
   "id": "06328712",
   "metadata": {},
   "outputs": [],
   "source": [
    "X=data.drop('salary_in_usd',axis=1)\n",
    "y=data['salary_in_usd']"
   ]
  },
  {
   "cell_type": "code",
   "execution_count": 55,
   "id": "e8cfff3c",
   "metadata": {},
   "outputs": [
    {
     "data": {
      "text/html": [
       "<div>\n",
       "<style scoped>\n",
       "    .dataframe tbody tr th:only-of-type {\n",
       "        vertical-align: middle;\n",
       "    }\n",
       "\n",
       "    .dataframe tbody tr th {\n",
       "        vertical-align: top;\n",
       "    }\n",
       "\n",
       "    .dataframe thead th {\n",
       "        text-align: right;\n",
       "    }\n",
       "</style>\n",
       "<table border=\"1\" class=\"dataframe\">\n",
       "  <thead>\n",
       "    <tr style=\"text-align: right;\">\n",
       "      <th></th>\n",
       "      <th>salary_paid_year</th>\n",
       "      <th>experience_level</th>\n",
       "      <th>job_title</th>\n",
       "      <th>remote_ratio</th>\n",
       "      <th>company_size</th>\n",
       "      <th>companyloc_continent</th>\n",
       "    </tr>\n",
       "  </thead>\n",
       "  <tbody>\n",
       "    <tr>\n",
       "      <th>0</th>\n",
       "      <td>2023</td>\n",
       "      <td>3</td>\n",
       "      <td>83</td>\n",
       "      <td>100</td>\n",
       "      <td>0</td>\n",
       "      <td>3</td>\n",
       "    </tr>\n",
       "    <tr>\n",
       "      <th>1</th>\n",
       "      <td>2023</td>\n",
       "      <td>2</td>\n",
       "      <td>65</td>\n",
       "      <td>100</td>\n",
       "      <td>2</td>\n",
       "      <td>4</td>\n",
       "    </tr>\n",
       "    <tr>\n",
       "      <th>2</th>\n",
       "      <td>2023</td>\n",
       "      <td>2</td>\n",
       "      <td>65</td>\n",
       "      <td>100</td>\n",
       "      <td>2</td>\n",
       "      <td>4</td>\n",
       "    </tr>\n",
       "    <tr>\n",
       "      <th>3</th>\n",
       "      <td>2023</td>\n",
       "      <td>3</td>\n",
       "      <td>46</td>\n",
       "      <td>100</td>\n",
       "      <td>1</td>\n",
       "      <td>4</td>\n",
       "    </tr>\n",
       "    <tr>\n",
       "      <th>4</th>\n",
       "      <td>2023</td>\n",
       "      <td>3</td>\n",
       "      <td>46</td>\n",
       "      <td>100</td>\n",
       "      <td>1</td>\n",
       "      <td>4</td>\n",
       "    </tr>\n",
       "  </tbody>\n",
       "</table>\n",
       "</div>"
      ],
      "text/plain": [
       "   salary_paid_year  experience_level  job_title  remote_ratio  company_size  \\\n",
       "0              2023                 3         83           100             0   \n",
       "1              2023                 2         65           100             2   \n",
       "2              2023                 2         65           100             2   \n",
       "3              2023                 3         46           100             1   \n",
       "4              2023                 3         46           100             1   \n",
       "\n",
       "   companyloc_continent  \n",
       "0                     3  \n",
       "1                     4  \n",
       "2                     4  \n",
       "3                     4  \n",
       "4                     4  "
      ]
     },
     "execution_count": 55,
     "metadata": {},
     "output_type": "execute_result"
    }
   ],
   "source": [
    "X.head()"
   ]
  },
  {
   "cell_type": "code",
   "execution_count": 56,
   "id": "be2f81a8",
   "metadata": {},
   "outputs": [
    {
     "data": {
      "text/plain": [
       "0     85847\n",
       "1     30000\n",
       "2     25500\n",
       "3    175000\n",
       "4    120000\n",
       "Name: salary_in_usd, dtype: int64"
      ]
     },
     "execution_count": 56,
     "metadata": {},
     "output_type": "execute_result"
    }
   ],
   "source": [
    "y.head()"
   ]
  },
  {
   "cell_type": "code",
   "execution_count": 57,
   "id": "76b864ca",
   "metadata": {},
   "outputs": [
    {
     "data": {
      "text/html": [
       "<div>\n",
       "<style scoped>\n",
       "    .dataframe tbody tr th:only-of-type {\n",
       "        vertical-align: middle;\n",
       "    }\n",
       "\n",
       "    .dataframe tbody tr th {\n",
       "        vertical-align: top;\n",
       "    }\n",
       "\n",
       "    .dataframe thead th {\n",
       "        text-align: right;\n",
       "    }\n",
       "</style>\n",
       "<table border=\"1\" class=\"dataframe\">\n",
       "  <thead>\n",
       "    <tr style=\"text-align: right;\">\n",
       "      <th></th>\n",
       "      <th>salary_paid_year</th>\n",
       "      <th>experience_level</th>\n",
       "      <th>job_title</th>\n",
       "      <th>remote_ratio</th>\n",
       "      <th>company_size</th>\n",
       "      <th>companyloc_continent</th>\n",
       "    </tr>\n",
       "  </thead>\n",
       "  <tbody>\n",
       "    <tr>\n",
       "      <th>count</th>\n",
       "      <td>3692.000000</td>\n",
       "      <td>3692.000000</td>\n",
       "      <td>3692.000000</td>\n",
       "      <td>3692.000000</td>\n",
       "      <td>3692.000000</td>\n",
       "      <td>3692.000000</td>\n",
       "    </tr>\n",
       "    <tr>\n",
       "      <th>mean</th>\n",
       "      <td>2022.371885</td>\n",
       "      <td>2.469935</td>\n",
       "      <td>39.208017</td>\n",
       "      <td>46.289274</td>\n",
       "      <td>0.920098</td>\n",
       "      <td>3.782232</td>\n",
       "    </tr>\n",
       "    <tr>\n",
       "      <th>std</th>\n",
       "      <td>0.689827</td>\n",
       "      <td>0.906591</td>\n",
       "      <td>18.093306</td>\n",
       "      <td>48.589320</td>\n",
       "      <td>0.391396</td>\n",
       "      <td>0.625675</td>\n",
       "    </tr>\n",
       "    <tr>\n",
       "      <th>min</th>\n",
       "      <td>2020.000000</td>\n",
       "      <td>0.000000</td>\n",
       "      <td>0.000000</td>\n",
       "      <td>0.000000</td>\n",
       "      <td>0.000000</td>\n",
       "      <td>0.000000</td>\n",
       "    </tr>\n",
       "    <tr>\n",
       "      <th>25%</th>\n",
       "      <td>2022.000000</td>\n",
       "      <td>2.000000</td>\n",
       "      <td>25.000000</td>\n",
       "      <td>0.000000</td>\n",
       "      <td>1.000000</td>\n",
       "      <td>4.000000</td>\n",
       "    </tr>\n",
       "    <tr>\n",
       "      <th>50%</th>\n",
       "      <td>2022.000000</td>\n",
       "      <td>3.000000</td>\n",
       "      <td>33.000000</td>\n",
       "      <td>0.000000</td>\n",
       "      <td>1.000000</td>\n",
       "      <td>4.000000</td>\n",
       "    </tr>\n",
       "    <tr>\n",
       "      <th>75%</th>\n",
       "      <td>2023.000000</td>\n",
       "      <td>3.000000</td>\n",
       "      <td>46.000000</td>\n",
       "      <td>100.000000</td>\n",
       "      <td>1.000000</td>\n",
       "      <td>4.000000</td>\n",
       "    </tr>\n",
       "    <tr>\n",
       "      <th>max</th>\n",
       "      <td>2023.000000</td>\n",
       "      <td>3.000000</td>\n",
       "      <td>91.000000</td>\n",
       "      <td>100.000000</td>\n",
       "      <td>2.000000</td>\n",
       "      <td>5.000000</td>\n",
       "    </tr>\n",
       "  </tbody>\n",
       "</table>\n",
       "</div>"
      ],
      "text/plain": [
       "       salary_paid_year  experience_level    job_title  remote_ratio  \\\n",
       "count       3692.000000       3692.000000  3692.000000   3692.000000   \n",
       "mean        2022.371885          2.469935    39.208017     46.289274   \n",
       "std            0.689827          0.906591    18.093306     48.589320   \n",
       "min         2020.000000          0.000000     0.000000      0.000000   \n",
       "25%         2022.000000          2.000000    25.000000      0.000000   \n",
       "50%         2022.000000          3.000000    33.000000      0.000000   \n",
       "75%         2023.000000          3.000000    46.000000    100.000000   \n",
       "max         2023.000000          3.000000    91.000000    100.000000   \n",
       "\n",
       "       company_size  companyloc_continent  \n",
       "count   3692.000000           3692.000000  \n",
       "mean       0.920098              3.782232  \n",
       "std        0.391396              0.625675  \n",
       "min        0.000000              0.000000  \n",
       "25%        1.000000              4.000000  \n",
       "50%        1.000000              4.000000  \n",
       "75%        1.000000              4.000000  \n",
       "max        2.000000              5.000000  "
      ]
     },
     "execution_count": 57,
     "metadata": {},
     "output_type": "execute_result"
    }
   ],
   "source": [
    "X.describe()"
   ]
  },
  {
   "cell_type": "markdown",
   "id": "687653b1",
   "metadata": {},
   "source": [
    "# Standard Scaler - Performing feature scalling technique"
   ]
  },
  {
   "cell_type": "code",
   "execution_count": 58,
   "id": "81da19a0",
   "metadata": {
    "scrolled": true
   },
   "outputs": [],
   "source": [
    "# standardising the data\n",
    "from sklearn.preprocessing import StandardScaler\n",
    "\n",
    "sc=StandardScaler()\n",
    "Scaled=sc.fit_transform(X)\n",
    "X=pd.DataFrame(Scaled,columns=X.columns)"
   ]
  },
  {
   "cell_type": "code",
   "execution_count": 59,
   "id": "99cdc05e",
   "metadata": {},
   "outputs": [
    {
     "data": {
      "text/html": [
       "<div>\n",
       "<style scoped>\n",
       "    .dataframe tbody tr th:only-of-type {\n",
       "        vertical-align: middle;\n",
       "    }\n",
       "\n",
       "    .dataframe tbody tr th {\n",
       "        vertical-align: top;\n",
       "    }\n",
       "\n",
       "    .dataframe thead th {\n",
       "        text-align: right;\n",
       "    }\n",
       "</style>\n",
       "<table border=\"1\" class=\"dataframe\">\n",
       "  <thead>\n",
       "    <tr style=\"text-align: right;\">\n",
       "      <th></th>\n",
       "      <th>salary_paid_year</th>\n",
       "      <th>experience_level</th>\n",
       "      <th>job_title</th>\n",
       "      <th>remote_ratio</th>\n",
       "      <th>company_size</th>\n",
       "      <th>companyloc_continent</th>\n",
       "    </tr>\n",
       "  </thead>\n",
       "  <tbody>\n",
       "    <tr>\n",
       "      <th>count</th>\n",
       "      <td>3.692000e+03</td>\n",
       "      <td>3.692000e+03</td>\n",
       "      <td>3.692000e+03</td>\n",
       "      <td>3.692000e+03</td>\n",
       "      <td>3.692000e+03</td>\n",
       "      <td>3.692000e+03</td>\n",
       "    </tr>\n",
       "    <tr>\n",
       "      <th>mean</th>\n",
       "      <td>9.681241e-14</td>\n",
       "      <td>-2.309456e-16</td>\n",
       "      <td>-8.083097e-17</td>\n",
       "      <td>6.158550e-17</td>\n",
       "      <td>-2.309456e-17</td>\n",
       "      <td>-4.618913e-17</td>\n",
       "    </tr>\n",
       "    <tr>\n",
       "      <th>std</th>\n",
       "      <td>1.000135e+00</td>\n",
       "      <td>1.000135e+00</td>\n",
       "      <td>1.000135e+00</td>\n",
       "      <td>1.000135e+00</td>\n",
       "      <td>1.000135e+00</td>\n",
       "      <td>1.000135e+00</td>\n",
       "    </tr>\n",
       "    <tr>\n",
       "      <th>min</th>\n",
       "      <td>-3.438845e+00</td>\n",
       "      <td>-2.724788e+00</td>\n",
       "      <td>-2.167284e+00</td>\n",
       "      <td>-9.527926e-01</td>\n",
       "      <td>-2.351125e+00</td>\n",
       "      <td>-6.045858e+00</td>\n",
       "    </tr>\n",
       "    <tr>\n",
       "      <th>25%</th>\n",
       "      <td>-5.391725e-01</td>\n",
       "      <td>-5.184239e-01</td>\n",
       "      <td>-7.853701e-01</td>\n",
       "      <td>-9.527926e-01</td>\n",
       "      <td>2.041748e-01</td>\n",
       "      <td>3.481001e-01</td>\n",
       "    </tr>\n",
       "    <tr>\n",
       "      <th>50%</th>\n",
       "      <td>-5.391725e-01</td>\n",
       "      <td>5.847582e-01</td>\n",
       "      <td>-3.431578e-01</td>\n",
       "      <td>-9.527926e-01</td>\n",
       "      <td>2.041748e-01</td>\n",
       "      <td>3.481001e-01</td>\n",
       "    </tr>\n",
       "    <tr>\n",
       "      <th>75%</th>\n",
       "      <td>9.106636e-01</td>\n",
       "      <td>5.847582e-01</td>\n",
       "      <td>3.754373e-01</td>\n",
       "      <td>1.105552e+00</td>\n",
       "      <td>2.041748e-01</td>\n",
       "      <td>3.481001e-01</td>\n",
       "    </tr>\n",
       "    <tr>\n",
       "      <th>max</th>\n",
       "      <td>9.106636e-01</td>\n",
       "      <td>5.847582e-01</td>\n",
       "      <td>2.862882e+00</td>\n",
       "      <td>1.105552e+00</td>\n",
       "      <td>2.759475e+00</td>\n",
       "      <td>1.946590e+00</td>\n",
       "    </tr>\n",
       "  </tbody>\n",
       "</table>\n",
       "</div>"
      ],
      "text/plain": [
       "       salary_paid_year  experience_level     job_title  remote_ratio  \\\n",
       "count      3.692000e+03      3.692000e+03  3.692000e+03  3.692000e+03   \n",
       "mean       9.681241e-14     -2.309456e-16 -8.083097e-17  6.158550e-17   \n",
       "std        1.000135e+00      1.000135e+00  1.000135e+00  1.000135e+00   \n",
       "min       -3.438845e+00     -2.724788e+00 -2.167284e+00 -9.527926e-01   \n",
       "25%       -5.391725e-01     -5.184239e-01 -7.853701e-01 -9.527926e-01   \n",
       "50%       -5.391725e-01      5.847582e-01 -3.431578e-01 -9.527926e-01   \n",
       "75%        9.106636e-01      5.847582e-01  3.754373e-01  1.105552e+00   \n",
       "max        9.106636e-01      5.847582e-01  2.862882e+00  1.105552e+00   \n",
       "\n",
       "       company_size  companyloc_continent  \n",
       "count  3.692000e+03          3.692000e+03  \n",
       "mean  -2.309456e-17         -4.618913e-17  \n",
       "std    1.000135e+00          1.000135e+00  \n",
       "min   -2.351125e+00         -6.045858e+00  \n",
       "25%    2.041748e-01          3.481001e-01  \n",
       "50%    2.041748e-01          3.481001e-01  \n",
       "75%    2.041748e-01          3.481001e-01  \n",
       "max    2.759475e+00          1.946590e+00  "
      ]
     },
     "execution_count": 59,
     "metadata": {},
     "output_type": "execute_result"
    }
   ],
   "source": [
    "X.describe()"
   ]
  },
  {
   "cell_type": "code",
   "execution_count": 60,
   "id": "b6bcd7d7",
   "metadata": {},
   "outputs": [],
   "source": [
    "from sklearn.model_selection import train_test_split\n",
    "# Split the data into training and testing sets (e.g., 80% training, 20% testing)\n",
    "X_train, X_test, y_train, y_test = train_test_split(X, y, test_size=0.2, random_state=42)"
   ]
  },
  {
   "cell_type": "code",
   "execution_count": 61,
   "id": "77e5771d",
   "metadata": {},
   "outputs": [
    {
     "name": "stdout",
     "output_type": "stream",
     "text": [
      "(2953, 6) (739, 6) (2953,) (739,)\n"
     ]
    }
   ],
   "source": [
    "print(X_train.shape,X_test.shape,y_train.shape,y_test.shape)"
   ]
  },
  {
   "cell_type": "markdown",
   "id": "800365e0",
   "metadata": {},
   "source": [
    "# Random Forest Importance - Performing feature selection technique"
   ]
  },
  {
   "cell_type": "code",
   "execution_count": 62,
   "id": "27ad44e6",
   "metadata": {},
   "outputs": [
    {
     "data": {
      "text/html": [
       "<style>#sk-container-id-1 {color: black;background-color: white;}#sk-container-id-1 pre{padding: 0;}#sk-container-id-1 div.sk-toggleable {background-color: white;}#sk-container-id-1 label.sk-toggleable__label {cursor: pointer;display: block;width: 100%;margin-bottom: 0;padding: 0.3em;box-sizing: border-box;text-align: center;}#sk-container-id-1 label.sk-toggleable__label-arrow:before {content: \"▸\";float: left;margin-right: 0.25em;color: #696969;}#sk-container-id-1 label.sk-toggleable__label-arrow:hover:before {color: black;}#sk-container-id-1 div.sk-estimator:hover label.sk-toggleable__label-arrow:before {color: black;}#sk-container-id-1 div.sk-toggleable__content {max-height: 0;max-width: 0;overflow: hidden;text-align: left;background-color: #f0f8ff;}#sk-container-id-1 div.sk-toggleable__content pre {margin: 0.2em;color: black;border-radius: 0.25em;background-color: #f0f8ff;}#sk-container-id-1 input.sk-toggleable__control:checked~div.sk-toggleable__content {max-height: 200px;max-width: 100%;overflow: auto;}#sk-container-id-1 input.sk-toggleable__control:checked~label.sk-toggleable__label-arrow:before {content: \"▾\";}#sk-container-id-1 div.sk-estimator input.sk-toggleable__control:checked~label.sk-toggleable__label {background-color: #d4ebff;}#sk-container-id-1 div.sk-label input.sk-toggleable__control:checked~label.sk-toggleable__label {background-color: #d4ebff;}#sk-container-id-1 input.sk-hidden--visually {border: 0;clip: rect(1px 1px 1px 1px);clip: rect(1px, 1px, 1px, 1px);height: 1px;margin: -1px;overflow: hidden;padding: 0;position: absolute;width: 1px;}#sk-container-id-1 div.sk-estimator {font-family: monospace;background-color: #f0f8ff;border: 1px dotted black;border-radius: 0.25em;box-sizing: border-box;margin-bottom: 0.5em;}#sk-container-id-1 div.sk-estimator:hover {background-color: #d4ebff;}#sk-container-id-1 div.sk-parallel-item::after {content: \"\";width: 100%;border-bottom: 1px solid gray;flex-grow: 1;}#sk-container-id-1 div.sk-label:hover label.sk-toggleable__label {background-color: #d4ebff;}#sk-container-id-1 div.sk-serial::before {content: \"\";position: absolute;border-left: 1px solid gray;box-sizing: border-box;top: 0;bottom: 0;left: 50%;z-index: 0;}#sk-container-id-1 div.sk-serial {display: flex;flex-direction: column;align-items: center;background-color: white;padding-right: 0.2em;padding-left: 0.2em;position: relative;}#sk-container-id-1 div.sk-item {position: relative;z-index: 1;}#sk-container-id-1 div.sk-parallel {display: flex;align-items: stretch;justify-content: center;background-color: white;position: relative;}#sk-container-id-1 div.sk-item::before, #sk-container-id-1 div.sk-parallel-item::before {content: \"\";position: absolute;border-left: 1px solid gray;box-sizing: border-box;top: 0;bottom: 0;left: 50%;z-index: -1;}#sk-container-id-1 div.sk-parallel-item {display: flex;flex-direction: column;z-index: 1;position: relative;background-color: white;}#sk-container-id-1 div.sk-parallel-item:first-child::after {align-self: flex-end;width: 50%;}#sk-container-id-1 div.sk-parallel-item:last-child::after {align-self: flex-start;width: 50%;}#sk-container-id-1 div.sk-parallel-item:only-child::after {width: 0;}#sk-container-id-1 div.sk-dashed-wrapped {border: 1px dashed gray;margin: 0 0.4em 0.5em 0.4em;box-sizing: border-box;padding-bottom: 0.4em;background-color: white;}#sk-container-id-1 div.sk-label label {font-family: monospace;font-weight: bold;display: inline-block;line-height: 1.2em;}#sk-container-id-1 div.sk-label-container {text-align: center;}#sk-container-id-1 div.sk-container {/* jupyter's `normalize.less` sets `[hidden] { display: none; }` but bootstrap.min.css set `[hidden] { display: none !important; }` so we also need the `!important` here to be able to override the default hidden behavior on the sphinx rendered scikit-learn.org. See: https://github.com/scikit-learn/scikit-learn/issues/21755 */display: inline-block !important;position: relative;}#sk-container-id-1 div.sk-text-repr-fallback {display: none;}</style><div id=\"sk-container-id-1\" class=\"sk-top-container\"><div class=\"sk-text-repr-fallback\"><pre>RandomForestRegressor(random_state=17)</pre><b>In a Jupyter environment, please rerun this cell to show the HTML representation or trust the notebook. <br />On GitHub, the HTML representation is unable to render, please try loading this page with nbviewer.org.</b></div><div class=\"sk-container\" hidden><div class=\"sk-item\"><div class=\"sk-estimator sk-toggleable\"><input class=\"sk-toggleable__control sk-hidden--visually\" id=\"sk-estimator-id-1\" type=\"checkbox\" checked><label for=\"sk-estimator-id-1\" class=\"sk-toggleable__label sk-toggleable__label-arrow\">RandomForestRegressor</label><div class=\"sk-toggleable__content\"><pre>RandomForestRegressor(random_state=17)</pre></div></div></div></div></div>"
      ],
      "text/plain": [
       "RandomForestRegressor(random_state=17)"
      ]
     },
     "execution_count": 62,
     "metadata": {},
     "output_type": "execute_result"
    }
   ],
   "source": [
    "from sklearn.ensemble import RandomForestRegressor\n",
    "rf = RandomForestRegressor(n_estimators=100, random_state=17)\n",
    "rf.fit(X, y)"
   ]
  },
  {
   "cell_type": "code",
   "execution_count": 63,
   "id": "5dee5922",
   "metadata": {},
   "outputs": [
    {
     "name": "stdout",
     "output_type": "stream",
     "text": [
      "Feature Importances:\n",
      "salary_paid_year: 0.05486146839176477\n",
      "experience_level: 0.16220532492204326\n",
      "job_title: 0.2459767231145111\n",
      "remote_ratio: 0.05152194633520629\n",
      "company_size: 0.044405593866761586\n",
      "companyloc_continent: 0.441028943369713\n"
     ]
    }
   ],
   "source": [
    "importances = rf.feature_importances_\n",
    "feature_names = X.columns\n",
    "print(\"Feature Importances:\")\n",
    "for feature, importance in zip(feature_names, importances):\n",
    "    print(f\"{feature}: {importance}\")"
   ]
  },
  {
   "cell_type": "code",
   "execution_count": 64,
   "id": "00ee6ac0",
   "metadata": {},
   "outputs": [
    {
     "data": {
      "image/png": "[encoded data removed]",
      "text/plain": [
       "<Figure size 640x480 with 1 Axes>"
      ]
     },
     "metadata": {},
     "output_type": "display_data"
    }
   ],
   "source": [
    "final_df = pd.DataFrame({'Features':feature_names,\"Importances\":importances})\n",
    "final_df.set_index('Features',inplace=True)\n",
    "sorted_importances = final_df.sort_values(by = 'Importances')\n",
    "sorted_importances.plot(kind='barh')\n",
    "plt.show()"
   ]
  },
  {
   "cell_type": "code",
   "execution_count": 65,
   "id": "ef5daf5c",
   "metadata": {},
   "outputs": [
    {
     "data": {
      "text/html": [
       "<div>\n",
       "<style scoped>\n",
       "    .dataframe tbody tr th:only-of-type {\n",
       "        vertical-align: middle;\n",
       "    }\n",
       "\n",
       "    .dataframe tbody tr th {\n",
       "        vertical-align: top;\n",
       "    }\n",
       "\n",
       "    .dataframe thead th {\n",
       "        text-align: right;\n",
       "    }\n",
       "</style>\n",
       "<table border=\"1\" class=\"dataframe\">\n",
       "  <thead>\n",
       "    <tr style=\"text-align: right;\">\n",
       "      <th></th>\n",
       "      <th>Importances</th>\n",
       "    </tr>\n",
       "    <tr>\n",
       "      <th>Features</th>\n",
       "      <th></th>\n",
       "    </tr>\n",
       "  </thead>\n",
       "  <tbody>\n",
       "    <tr>\n",
       "      <th>companyloc_continent</th>\n",
       "      <td>0.441029</td>\n",
       "    </tr>\n",
       "    <tr>\n",
       "      <th>job_title</th>\n",
       "      <td>0.245977</td>\n",
       "    </tr>\n",
       "    <tr>\n",
       "      <th>experience_level</th>\n",
       "      <td>0.162205</td>\n",
       "    </tr>\n",
       "    <tr>\n",
       "      <th>salary_paid_year</th>\n",
       "      <td>0.054861</td>\n",
       "    </tr>\n",
       "    <tr>\n",
       "      <th>remote_ratio</th>\n",
       "      <td>0.051522</td>\n",
       "    </tr>\n",
       "    <tr>\n",
       "      <th>company_size</th>\n",
       "      <td>0.044406</td>\n",
       "    </tr>\n",
       "  </tbody>\n",
       "</table>\n",
       "</div>"
      ],
      "text/plain": [
       "                      Importances\n",
       "Features                         \n",
       "companyloc_continent     0.441029\n",
       "job_title                0.245977\n",
       "experience_level         0.162205\n",
       "salary_paid_year         0.054861\n",
       "remote_ratio             0.051522\n",
       "company_size             0.044406"
      ]
     },
     "execution_count": 65,
     "metadata": {},
     "output_type": "execute_result"
    }
   ],
   "source": [
    "sorted_importances.sort_values(by ='Importances', ascending=False)"
   ]
  },
  {
   "cell_type": "code",
   "execution_count": 66,
   "id": "bacf38ff",
   "metadata": {},
   "outputs": [
    {
     "data": {
      "text/html": [
       "<div>\n",
       "<style scoped>\n",
       "    .dataframe tbody tr th:only-of-type {\n",
       "        vertical-align: middle;\n",
       "    }\n",
       "\n",
       "    .dataframe tbody tr th {\n",
       "        vertical-align: top;\n",
       "    }\n",
       "\n",
       "    .dataframe thead th {\n",
       "        text-align: right;\n",
       "    }\n",
       "</style>\n",
       "<table border=\"1\" class=\"dataframe\">\n",
       "  <thead>\n",
       "    <tr style=\"text-align: right;\">\n",
       "      <th></th>\n",
       "      <th>Importances</th>\n",
       "    </tr>\n",
       "    <tr>\n",
       "      <th>Features</th>\n",
       "      <th></th>\n",
       "    </tr>\n",
       "  </thead>\n",
       "  <tbody>\n",
       "    <tr>\n",
       "      <th>experience_level</th>\n",
       "      <td>0.162205</td>\n",
       "    </tr>\n",
       "    <tr>\n",
       "      <th>job_title</th>\n",
       "      <td>0.245977</td>\n",
       "    </tr>\n",
       "    <tr>\n",
       "      <th>companyloc_continent</th>\n",
       "      <td>0.441029</td>\n",
       "    </tr>\n",
       "  </tbody>\n",
       "</table>\n",
       "</div>"
      ],
      "text/plain": [
       "                      Importances\n",
       "Features                         \n",
       "experience_level         0.162205\n",
       "job_title                0.245977\n",
       "companyloc_continent     0.441029"
      ]
     },
     "execution_count": 66,
     "metadata": {},
     "output_type": "execute_result"
    }
   ],
   "source": [
    "sorted_importances[sorted_importances.values>=0.155426]"
   ]
  },
  {
   "cell_type": "markdown",
   "id": "69c3b923",
   "metadata": {},
   "source": [
    "# Now will extract Top 3 features for building my Model"
   ]
  },
  {
   "cell_type": "code",
   "execution_count": 67,
   "id": "8fc48b98",
   "metadata": {},
   "outputs": [],
   "source": [
    "new_X = X[sorted_importances[sorted_importances.values>=0.155426].index]"
   ]
  },
  {
   "cell_type": "markdown",
   "id": "4c8ca413",
   "metadata": {},
   "source": [
    "# Model Building"
   ]
  },
  {
   "cell_type": "markdown",
   "id": "e7f86a81",
   "metadata": {},
   "source": [
    "### Splitting the data into train and test data set"
   ]
  },
  {
   "cell_type": "code",
   "execution_count": 68,
   "id": "13ade28e",
   "metadata": {},
   "outputs": [],
   "source": [
    "X_train,X_test,y_train,y_test=train_test_split(new_X,y,test_size=0.20,random_state=1)"
   ]
  },
  {
   "cell_type": "code",
   "execution_count": 69,
   "id": "7035c07c",
   "metadata": {},
   "outputs": [
    {
     "data": {
      "text/plain": [
       "((2953, 3), (739, 3), (2953,), (739,))"
      ]
     },
     "execution_count": 69,
     "metadata": {},
     "output_type": "execute_result"
    }
   ],
   "source": [
    "X_train.shape,X_test.shape,y_train.shape,y_test.shape"
   ]
  },
  {
   "cell_type": "markdown",
   "id": "3e484210",
   "metadata": {},
   "source": [
    "# Model Application"
   ]
  },
  {
   "cell_type": "code",
   "execution_count": 70,
   "id": "3fdb75e1",
   "metadata": {},
   "outputs": [],
   "source": [
    "from sklearn.linear_model import LinearRegression\n",
    "from sklearn.tree import DecisionTreeRegressor\n",
    "from sklearn.ensemble import RandomForestRegressor\n",
    "models=[LinearRegression(),DecisionTreeRegressor(),RandomForestRegressor()]\n",
    "from sklearn.preprocessing import StandardScaler\n",
    "from sklearn.metrics import mean_squared_error,r2_score"
   ]
  },
  {
   "cell_type": "code",
   "execution_count": 71,
   "id": "52a61b98",
   "metadata": {},
   "outputs": [
    {
     "name": "stdout",
     "output_type": "stream",
     "text": [
      "train_mse = 2462363053.951168\n",
      "test_mse = 2330133791.1274548\n",
      "train_r2_score = 0.270896230958907\n",
      "test_r2_score = 0.2943039389289791\n"
     ]
    }
   ],
   "source": [
    "lr1=LinearRegression()\n",
    "lr1.fit(X_train,y_train)\n",
    "train_pred=lr1.predict(X_train)\n",
    "test_pred=lr1.predict(X_test)\n",
    "\n",
    "#Now will check the MSE of the model\n",
    "train_mse=mean_squared_error(y_train,train_pred)\n",
    "test_mse=mean_squared_error(y_test,test_pred)\n",
    "print('train_mse =',train_mse)\n",
    "print('test_mse =',test_mse)\n",
    "\n",
    "# Now will check the r2_score \n",
    "train_r2_score=r2_score(y_train,train_pred)\n",
    "test_r2_score=r2_score(y_test,test_pred)\n",
    "print('train_r2_score =',train_r2_score)\n",
    "print('test_r2_score =',test_r2_score)"
   ]
  },
  {
   "cell_type": "code",
   "execution_count": 72,
   "id": "9e939602",
   "metadata": {},
   "outputs": [
    {
     "data": {
      "text/plain": [
       "(3692, 7)"
      ]
     },
     "execution_count": 72,
     "metadata": {},
     "output_type": "execute_result"
    }
   ],
   "source": [
    "data.shape"
   ]
  },
  {
   "cell_type": "code",
   "execution_count": 73,
   "id": "010dbcb4",
   "metadata": {},
   "outputs": [
    {
     "data": {
      "text/plain": [
       "738.4000000000001"
      ]
     },
     "execution_count": 73,
     "metadata": {},
     "output_type": "execute_result"
    }
   ],
   "source": [
    "3692*0.20"
   ]
  },
  {
   "cell_type": "code",
   "execution_count": 74,
   "id": "f86135ce",
   "metadata": {},
   "outputs": [
    {
     "data": {
      "text/plain": [
       "-2954"
      ]
     },
     "execution_count": 74,
     "metadata": {},
     "output_type": "execute_result"
    }
   ],
   "source": [
    "738-3692"
   ]
  },
  {
   "cell_type": "code",
   "execution_count": 75,
   "id": "e9c6aed3",
   "metadata": {},
   "outputs": [],
   "source": [
    "# keep predicted with target variable\n",
    "# spliting the data for train and test\n",
    "trn=data.iloc[0:2954,]\n",
    "tst=data.iloc[2954:,]"
   ]
  },
  {
   "cell_type": "code",
   "execution_count": 76,
   "id": "da704ab5",
   "metadata": {},
   "outputs": [
    {
     "data": {
      "text/plain": [
       "Index(['salary_paid_year', 'experience_level', 'job_title', 'salary_in_usd',\n",
       "       'remote_ratio', 'company_size', 'companyloc_continent'],\n",
       "      dtype='object')"
      ]
     },
     "execution_count": 76,
     "metadata": {},
     "output_type": "execute_result"
    }
   ],
   "source": [
    "data.columns"
   ]
  },
  {
   "cell_type": "code",
   "execution_count": 77,
   "id": "b9cc828b",
   "metadata": {},
   "outputs": [
    {
     "data": {
      "text/html": [
       "<div>\n",
       "<style scoped>\n",
       "    .dataframe tbody tr th:only-of-type {\n",
       "        vertical-align: middle;\n",
       "    }\n",
       "\n",
       "    .dataframe tbody tr th {\n",
       "        vertical-align: top;\n",
       "    }\n",
       "\n",
       "    .dataframe thead th {\n",
       "        text-align: right;\n",
       "    }\n",
       "</style>\n",
       "<table border=\"1\" class=\"dataframe\">\n",
       "  <thead>\n",
       "    <tr style=\"text-align: right;\">\n",
       "      <th></th>\n",
       "      <th>salary_paid_year</th>\n",
       "      <th>experience_level</th>\n",
       "      <th>job_title</th>\n",
       "      <th>salary_in_usd</th>\n",
       "      <th>remote_ratio</th>\n",
       "      <th>company_size</th>\n",
       "      <th>companyloc_continent</th>\n",
       "    </tr>\n",
       "  </thead>\n",
       "  <tbody>\n",
       "    <tr>\n",
       "      <th>0</th>\n",
       "      <td>2023</td>\n",
       "      <td>3</td>\n",
       "      <td>83</td>\n",
       "      <td>85847</td>\n",
       "      <td>100</td>\n",
       "      <td>0</td>\n",
       "      <td>3</td>\n",
       "    </tr>\n",
       "    <tr>\n",
       "      <th>1</th>\n",
       "      <td>2023</td>\n",
       "      <td>2</td>\n",
       "      <td>65</td>\n",
       "      <td>30000</td>\n",
       "      <td>100</td>\n",
       "      <td>2</td>\n",
       "      <td>4</td>\n",
       "    </tr>\n",
       "    <tr>\n",
       "      <th>2</th>\n",
       "      <td>2023</td>\n",
       "      <td>2</td>\n",
       "      <td>65</td>\n",
       "      <td>25500</td>\n",
       "      <td>100</td>\n",
       "      <td>2</td>\n",
       "      <td>4</td>\n",
       "    </tr>\n",
       "    <tr>\n",
       "      <th>3</th>\n",
       "      <td>2023</td>\n",
       "      <td>3</td>\n",
       "      <td>46</td>\n",
       "      <td>175000</td>\n",
       "      <td>100</td>\n",
       "      <td>1</td>\n",
       "      <td>4</td>\n",
       "    </tr>\n",
       "    <tr>\n",
       "      <th>4</th>\n",
       "      <td>2023</td>\n",
       "      <td>3</td>\n",
       "      <td>46</td>\n",
       "      <td>120000</td>\n",
       "      <td>100</td>\n",
       "      <td>1</td>\n",
       "      <td>4</td>\n",
       "    </tr>\n",
       "  </tbody>\n",
       "</table>\n",
       "</div>"
      ],
      "text/plain": [
       "   salary_paid_year  experience_level  job_title  salary_in_usd  remote_ratio  \\\n",
       "0              2023                 3         83          85847           100   \n",
       "1              2023                 2         65          30000           100   \n",
       "2              2023                 2         65          25500           100   \n",
       "3              2023                 3         46         175000           100   \n",
       "4              2023                 3         46         120000           100   \n",
       "\n",
       "   company_size  companyloc_continent  \n",
       "0             0                     3  \n",
       "1             2                     4  \n",
       "2             2                     4  \n",
       "3             1                     4  \n",
       "4             1                     4  "
      ]
     },
     "execution_count": 77,
     "metadata": {},
     "output_type": "execute_result"
    }
   ],
   "source": [
    "data.head()"
   ]
  },
  {
   "cell_type": "code",
   "execution_count": 78,
   "id": "b56392dd",
   "metadata": {},
   "outputs": [
    {
     "name": "stdout",
     "output_type": "stream",
     "text": [
      "                            OLS Regression Results                            \n",
      "==============================================================================\n",
      "Dep. Variable:          salary_in_usd   R-squared:                       0.243\n",
      "Model:                            OLS   Adj. R-squared:                  0.241\n",
      "Method:                 Least Squares   F-statistic:                     157.3\n",
      "Date:                Fri, 17 Nov 2023   Prob (F-statistic):          1.13e-173\n",
      "Time:                        10:42:14   Log-Likelihood:                -36080.\n",
      "No. Observations:                2954   AIC:                         7.217e+04\n",
      "Df Residuals:                    2947   BIC:                         7.222e+04\n",
      "Df Model:                           6                                         \n",
      "Covariance Type:            nonrobust                                         \n",
      "========================================================================================\n",
      "                           coef    std err          t      P>|t|      [0.025      0.975]\n",
      "----------------------------------------------------------------------------------------\n",
      "Intercept            -2.044e+07   3.65e+06     -5.605      0.000   -2.76e+07   -1.33e+07\n",
      "salary_paid_year      1.008e+04   1803.294      5.589      0.000    6542.889    1.36e+04\n",
      "experience_level       1.58e+04   1081.723     14.602      0.000    1.37e+04    1.79e+04\n",
      "job_title              446.3843     49.919      8.942      0.000     348.505     544.264\n",
      "remote_ratio             2.0594     18.827      0.109      0.913     -34.856      38.975\n",
      "company_size         -5907.0980   3085.071     -1.915      0.056    -1.2e+04     142.013\n",
      "companyloc_continent  3.735e+04   1799.232     20.759      0.000    3.38e+04    4.09e+04\n",
      "==============================================================================\n",
      "Omnibus:                       87.347   Durbin-Watson:                   1.966\n",
      "Prob(Omnibus):                  0.000   Jarque-Bera (JB):               94.479\n",
      "Skew:                           0.434   Prob(JB):                     3.05e-21\n",
      "Kurtosis:                       3.126   Cond. No.                     8.21e+06\n",
      "==============================================================================\n",
      "\n",
      "Notes:\n",
      "[1] Standard Errors assume that the covariance matrix of the errors is correctly specified.\n",
      "[2] The condition number is large, 8.21e+06. This might indicate that there are\n",
      "strong multicollinearity or other numerical problems.\n"
     ]
    }
   ],
   "source": [
    "# building the model\n",
    "from statsmodels.formula.api import ols\n",
    "import statsmodels.formula.api as smf\n",
    "\n",
    "model1=smf.ols('salary_in_usd ~ salary_paid_year + experience_level + job_title + remote_ratio + company_size+ companyloc_continent',data=trn).fit()\n",
    "print(model1.summary())\n"
   ]
  },
  {
   "cell_type": "code",
   "execution_count": 79,
   "id": "0c96bbe2",
   "metadata": {},
   "outputs": [
    {
     "name": "stdout",
     "output_type": "stream",
     "text": [
      "                            OLS Regression Results                            \n",
      "==============================================================================\n",
      "Dep. Variable:          salary_in_usd   R-squared:                       0.243\n",
      "Model:                            OLS   Adj. R-squared:                  0.241\n",
      "Method:                 Least Squares   F-statistic:                     188.8\n",
      "Date:                Fri, 17 Nov 2023   Prob (F-statistic):          7.89e-175\n",
      "Time:                        10:42:17   Log-Likelihood:                -36080.\n",
      "No. Observations:                2954   AIC:                         7.217e+04\n",
      "Df Residuals:                    2948   BIC:                         7.221e+04\n",
      "Df Model:                           5                                         \n",
      "Covariance Type:            nonrobust                                         \n",
      "========================================================================================\n",
      "                           coef    std err          t      P>|t|      [0.025      0.975]\n",
      "----------------------------------------------------------------------------------------\n",
      "Intercept            -2.038e+07    3.6e+06     -5.663      0.000   -2.74e+07   -1.33e+07\n",
      "salary_paid_year      1.005e+04   1779.294      5.647      0.000    6558.073    1.35e+04\n",
      "experience_level      1.579e+04   1081.531     14.604      0.000    1.37e+04    1.79e+04\n",
      "job_title              446.1057     49.846      8.950      0.000     348.370     543.841\n",
      "companyloc_continent  3.734e+04   1797.743     20.773      0.000    3.38e+04    4.09e+04\n",
      "company_size         -5905.5719   3084.522     -1.915      0.056    -1.2e+04     142.463\n",
      "==============================================================================\n",
      "Omnibus:                       87.515   Durbin-Watson:                   1.966\n",
      "Prob(Omnibus):                  0.000   Jarque-Bera (JB):               94.676\n",
      "Skew:                           0.434   Prob(JB):                     2.76e-21\n",
      "Kurtosis:                       3.126   Cond. No.                     8.10e+06\n",
      "==============================================================================\n",
      "\n",
      "Notes:\n",
      "[1] Standard Errors assume that the covariance matrix of the errors is correctly specified.\n",
      "[2] The condition number is large, 8.1e+06. This might indicate that there are\n",
      "strong multicollinearity or other numerical problems.\n"
     ]
    }
   ],
   "source": [
    "# If the p-value is greater than 0.05 then remove those variable from building the model\n",
    "\n",
    "model2=smf.ols('salary_in_usd ~ salary_paid_year+experience_level+job_title+companyloc_continent+company_size',data=trn).fit()\n",
    "print(model2.summary())"
   ]
  },
  {
   "cell_type": "code",
   "execution_count": 80,
   "id": "b5018d50",
   "metadata": {},
   "outputs": [
    {
     "name": "stdout",
     "output_type": "stream",
     "text": [
      "LinearRegression(): \n",
      "MSE_train:  2462363053.951168\n",
      "MSE_test:  2330133791.1274548\n",
      "RMSE_train:  49622.203235559464\n",
      "RMSE_test:  48271.45938468667\n",
      "R2_score_train:  0.270896230958907\n",
      "R2_score_test:  0.2943039389289791\n",
      "\n",
      "------------------------------------------------------------------------------------------------------------------------------------------------------------------------------------------------\n",
      "DecisionTreeRegressor(): \n",
      "MSE_train:  1712281347.5763113\n",
      "MSE_test:  1756467026.7729254\n",
      "RMSE_train:  41379.72145358535\n",
      "RMSE_test:  41910.22580197971\n",
      "R2_score_train:  0.4929948359266567\n",
      "R2_score_test:  0.46804262188094237\n",
      "\n",
      "------------------------------------------------------------------------------------------------------------------------------------------------------------------------------------------------\n",
      "RandomForestRegressor(): \n",
      "MSE_train:  1735628729.2016537\n",
      "MSE_test:  1718502242.7496793\n",
      "RMSE_train:  41660.877681605\n",
      "RMSE_test:  41454.82170688567\n",
      "R2_score_train:  0.48608169453876804\n",
      "R2_score_test:  0.4795405018081089\n",
      "\n",
      "------------------------------------------------------------------------------------------------------------------------------------------------------------------------------------------------\n"
     ]
    }
   ],
   "source": [
    "for i in range(3):\n",
    "    models[i].fit(X_train,y_train)\n",
    "    print(f'{models[i]}: ')\n",
    "    y_pred_train=models[i].predict(X_train)\n",
    "    y_pred_test=models[i].predict(X_test)\n",
    "    \n",
    "    print('MSE_train: ',mean_squared_error(y_train,y_pred_train))\n",
    "    print('MSE_test: ',mean_squared_error(y_test,y_pred_test))\n",
    "    \n",
    "    print('RMSE_train: ',np.sqrt(mean_squared_error(y_train,y_pred_train)))\n",
    "    print('RMSE_test: ',np.sqrt(mean_squared_error(y_test,y_pred_test)))\n",
    "    \n",
    "    print('R2_score_train: ',r2_score(y_train,y_pred_train))\n",
    "    print('R2_score_test: ',r2_score(y_test,y_pred_test))\n",
    "    \n",
    "    print()\n",
    "    print('--'*96)"
   ]
  },
  {
   "cell_type": "code",
   "execution_count": null,
   "id": "366e5add",
   "metadata": {},
   "outputs": [],
   "source": []
  },
  {
   "cell_type": "code",
   "execution_count": null,
   "id": "9a76e4f5",
   "metadata": {},
   "outputs": [],
   "source": []
  },
  {
   "cell_type": "code",
   "execution_count": null,
   "id": "d00474f3",
   "metadata": {},
   "outputs": [],
   "source": []
  },
  {
   "cell_type": "markdown",
   "id": "48b6b4ea",
   "metadata": {},
   "source": [
    "Therefore by comparing these three algorithm RandomForest has the generalized model"
   ]
  },
  {
   "cell_type": "markdown",
   "id": "a3bdac88",
   "metadata": {},
   "source": [
    "\n",
    " # Conclusion\n",
    "\n",
    "After a comprehensive analysis of the Data Science Job Salaries Dataset, several key insights and trends have been identified:\n",
    "\n",
    "Salary Trends: The dataset reveals fluctuations in data science job salaries over the years. This includes variations in salary amounts and patterns of growth.\n",
    "\n",
    "Experience Level Impact: It is evident that experience level plays a significant role in determining salaries. Senior data scientists tend to earn higher salaries compared to those with less experience.\n",
    "\n",
    "Remote Work: The remote_ratio highlights the extent to which data science professionals work remotely. This factor may have become increasingly relevant, especially in light of global events impacting workplace arrangements.\n",
    "\n",
    "Geographical Variations: Salary disparities among different countries or regions can be observed. Employees' primary country of residence and the location of the employer's main office both contribute to these variations.\n",
    "\n",
    "Company Size: The dataset also sheds light on the sizes of companies that hire data science professionals.Company sizes is  providing context for salary ranges and job opportunities."
   ]
  },
  {
   "cell_type": "code",
   "execution_count": 81,
   "id": "9ed086ce",
   "metadata": {},
   "outputs": [
    {
     "ename": "SyntaxError",
     "evalue": "invalid syntax (1918607497.py, line 2)",
     "output_type": "error",
     "traceback": [
      "\u001b[1;36m  Cell \u001b[1;32mIn[81], line 2\u001b[1;36m\u001b[0m\n\u001b[1;33m    pip install scikit-learn matplotlib graphviz pydotplus\u001b[0m\n\u001b[1;37m        ^\u001b[0m\n\u001b[1;31mSyntaxError\u001b[0m\u001b[1;31m:\u001b[0m invalid syntax\n"
     ]
    }
   ],
   "source": [
    "# Import necessary libraries\n",
    "pip install scikit-learn matplotlib graphviz pydotplus\n",
    "import matplotlib.pyplot as plt\n",
    "from sklearn.datasets import load_iris\n",
    "from sklearn.model_selection import train_test_split\n",
    "from sklearn.tree import DecisionTreeClassifier, export_graphviz\n",
    "from sklearn.ensemble import RandomForestClassifier\n",
    "from sklearn import metrics\n",
    "from IPython.display import Image\n",
    "import pydotplus\n",
    "\n",
    "# Load the Iris dataset as an example\n",
    "iris = load_iris()\n",
    "X_train, X_test, y_train, y_test = train_test_split(iris.data, iris.target, test_size=0.2, random_state=42)\n",
    "\n",
    "# Linear Decision Tree\n",
    "decision_tree_model = DecisionTreeClassifier()\n",
    "decision_tree_model.fit(X_train, y_train)\n",
    "\n",
    "# Random Forest\n",
    "random_forest_model = RandomForestClassifier(n_estimators=100)\n",
    "random_forest_model.fit(X_train, y_train)\n",
    "\n",
    "# Visualize Decision Tree\n",
    "dot_data = export_graphviz(decision_tree_model, out_file=None, \n",
    "                           feature_names=iris.feature_names,  \n",
    "                           class_names=iris.target_names,  \n",
    "                           filled=True, rounded=True,  \n",
    "                           special_characters=True)  \n",
    "graph = pydotplus.graph_from_dot_data(dot_data)  \n",
    "Image(graph.create_png())\n",
    "\n",
    "# Visualize Random Forest (feature importances)\n",
    "feature_importances = random_forest_model.feature_importances_\n",
    "indices = range(len(feature_importances))\n",
    "\n",
    "plt.bar(indices, feature_importances, color='b', align='center')\n",
    "plt.xticks(indices, iris.feature_names)\n",
    "plt.title('Feature Importances - Random Forest')\n",
    "plt.show()\n",
    "\n",
    "# Evaluate and print accuracy for both models\n",
    "decision_tree_accuracy = metrics.accuracy_score(y_test, decision_tree_model.predict(X_test))\n",
    "random_forest_accuracy = metrics.accuracy_score(y_test, random_forest_model.predict(X_test))\n",
    "\n",
    "print(f\"Decision Tree Accuracy: {decision_tree_accuracy:.2f}\")\n",
    "print(f\"Random Forest Accuracy: {random_forest_accuracy:.2f}\")\n"
   ]
  },
  {
   "cell_type": "code",
   "execution_count": null,
   "id": "7863c95f",
   "metadata": {},
   "outputs": [],
   "source": []
  },
  {
   "cell_type": "code",
   "execution_count": null,
   "id": "c4a289b9",
   "metadata": {},
   "outputs": [],
   "source": []
  }
 ],
 "metadata": {
  "kernelspec": {
   "display_name": "Python 3 (ipykernel)",
   "language": "python",
   "name": "python3"
  },
  "language_info": {
   "codemirror_mode": {
    "name": "ipython",
    "version": 3
   },
   "file_extension": ".py",
   "mimetype": "text/x-python",
   "name": "python",
   "nbconvert_exporter": "python",
   "pygments_lexer": "ipython3",
   "version": "3.11.3"
  }
 },
 "nbformat": 4,
 "nbformat_minor": 5
}
